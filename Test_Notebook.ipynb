{
 "cells": [
  {
   "cell_type": "markdown",
   "metadata": {
    "graffitiCellId": "id_37iny3e"
   },
   "source": [
    "<table style=\"width:100%\"><tr>\n",
    "<td> \n",
    "    \n",
    "Technische Universität Berlin\\\n",
    "Electrical Engineering and Computer Science\\\n",
    "Internet of Things for Smart Buildings\\\n",
    "Prof. Dr. Sergio Lucia, Felix Fiedler, Benjamin Karg </td>\n",
    "<td>  <img src=\"./Images/logo_tu.png\" style=\"width: 20%\" align=\"right\"/> </td>\n",
    "</tr>\n",
    "</table>\n",
    "\n",
    "***\n",
    "Model Predictive Control - SS20\n",
    "***\n",
    "\n",
    "# <span class=\"graffiti-highlight graffiti-id_37iny3e-id_b9148dd\"><i></i>Welcome and Test</span>"
   ]
  },
  {
   "cell_type": "code",
   "execution_count": 2,
   "metadata": {
    "graffitiCellId": "id_nvua62j"
   },
   "outputs": [],
   "source": [
    "def fun(x):\n",
    "    return x**2+3*x-2"
   ]
  },
  {
   "cell_type": "code",
   "execution_count": 1,
   "metadata": {
    "graffitiCellId": "id_zfuha0u"
   },
   "outputs": [],
   "source": [
    "def numerical_grad(f, x, h):\n",
    "    df = f(x+h)-f(x-h)\n",
    "    dx = 2*h\n",
    "    \n",
    "    grad = df/dx\n",
    "    \n",
    "    return grad"
   ]
  },
  {
   "cell_type": "code",
   "execution_count": null,
   "metadata": {
    "graffitiCellId": "id_2lg6j3u"
   },
   "outputs": [],
   "source": []
  }
 ],
 "metadata": {
  "graffiti": {
   "firstAuthorId": "dev",
   "id": "id_ktxa2lb",
   "language": "EN",
   "markdownLocked": false
  },
  "kernelspec": {
   "display_name": "Python 3.6 for TUB-IOT MPC20 Class (Jupyter Graffiti)",
   "language": "python",
   "name": "iot_mpc20"
  },
  "language_info": {
   "codemirror_mode": {
    "name": "ipython",
    "version": 3
   },
   "file_extension": ".py",
   "mimetype": "text/x-python",
   "name": "python",
   "nbconvert_exporter": "python",
   "pygments_lexer": "ipython3",
   "version": "3.6.10"
  }
 },
 "nbformat": 4,
 "nbformat_minor": 4
}
