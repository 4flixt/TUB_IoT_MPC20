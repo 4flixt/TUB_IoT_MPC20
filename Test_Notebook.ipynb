{
 "cells": [
  {
   "cell_type": "markdown",
   "metadata": {
    "graffitiCellId": "id_37iny3e"
   },
   "source": [
    "<table style=\"width:100%\"><tr>\n",
    "<td> \n",
    "    \n",
    "Technische Universität Berlin\\\n",
    "Electrical Engineering and Computer Science\\\n",
    "Internet of Things for Smart Buildings\\\n",
    "Prof. Dr. Sergio Lucia, Felix Fiedler, Benjamin Karg </td>\n",
    "<td>  <img src=\"./Images/logo_tu.png\" style=\"width: 20%\" align=\"right\"/> </td>\n",
    "</tr>\n",
    "</table>\n",
    "\n",
    "***\n",
    "<span class=\"graffiti-highlight graffiti-id_37iny3e-id_qhqowzh\"><i></i>Model Predictive Control - SS20</span>\n",
    "***"
   ]
  },
  {
   "cell_type": "code",
   "execution_count": null,
   "metadata": {
    "graffitiCellId": "id_4264037"
   },
   "outputs": [],
   "source": [
    "import numpy as np\n",
    "import matplotlib.pyplot as plt"
   ]
  },
  {
   "cell_type": "markdown",
   "metadata": {
    "graffitiCellId": "id_njvp4ip"
   },
   "source": [
    "<span class=\"graffiti-highlight graffiti-id_njvp4ip-id_jny2yy4\"><i></i>Exercise 1:</span>"
   ]
  },
  {
   "cell_type": "code",
   "execution_count": null,
   "metadata": {
    "graffitiCellId": "id_nvua62j"
   },
   "outputs": [],
   "source": [
    "def fun(x):\n",
    "    return x**2+3*x-2"
   ]
  },
  {
   "cell_type": "markdown",
   "metadata": {
    "graffitiCellId": "id_hn5petn"
   },
   "source": [
    "<span class=\"graffiti-highlight graffiti-id_hn5petn-id_b0kreah\"><i></i>Write a function </span>that computes the numerical gradient of $f(x)$ at a given $x$ and for a user defined $h$."
   ]
  },
  {
   "cell_type": "code",
   "execution_count": null,
   "metadata": {
    "graffitiCellId": "id_nj0pr6f"
   },
   "outputs": [],
   "source": [
    "def numerical_grad(f, x, h):\n",
    "\n",
    "    return grad"
   ]
  },
  {
   "cell_type": "markdown",
   "metadata": {
    "graffitiCellId": "id_6v0n3xb"
   },
   "source": [
    "<span class=\"graffiti-highlight graffiti-id_6v0n3xb-id_cjd1it1\"><i></i><button>Show Solution</button></span>"
   ]
  }
 ],
 "metadata": {
  "graffiti": {
   "dataDir": "data/",
   "firstAuthorId": "dev",
   "id": "id_ktxa2lb",
   "language": "EN",
   "markdownLocked": false
  },
  "kernelspec": {
   "display_name": "Python 3",
   "language": "python",
   "name": "python3"
  },
  "language_info": {
   "codemirror_mode": {
    "name": "ipython",
    "version": 3
   },
   "file_extension": ".py",
   "mimetype": "text/x-python",
   "name": "python",
   "nbconvert_exporter": "python",
   "pygments_lexer": "ipython3",
   "version": "3.7.4"
  }
 },
 "nbformat": 4,
 "nbformat_minor": 4
}
