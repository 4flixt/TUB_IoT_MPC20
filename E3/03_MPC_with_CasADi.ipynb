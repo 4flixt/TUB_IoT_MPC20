{
 "cells": [
  {
   "cell_type": "markdown",
   "metadata": {
    "colab_type": "text",
    "graffitiCellId": "id_gyr7sdu",
    "id": "2d5xtA6Wa2B2"
   },
   "source": [
    "<table style=\"width:100%\"><tr>\n",
    "<td> \n",
    "    \n",
    "Technische Universität Berlin\\\n",
    "Electrical Engineering and Computer Science\\\n",
    "Internet of Things for Smart Buildings\\\n",
    "Prof. Dr. Sergio Lucia, Felix Fiedler, Benjamin Karg </td>\n",
    "<td>  <img src=\"logo_tu.png\" style=\"width: 20%;\" align=\"right\"/> </td>\n",
    "</tr>\n",
    "</table>\n",
    "\n",
    "***\n",
    "**MPC 20 - Exercise 03**\n",
    "***\n",
    "\n",
    "# <span class=\"graffiti-highlight graffiti-id_gyr7sdu-id_a518nym\"><i></i>Please click here</span>!\n",
    "\n",
    "# MPC implementation with CasADi\n",
    "\n",
    "In this exercise we will continue working with the Python library [CasADi](https://web.casadi.org/docs/)\n",
    "and use it to implement our own MPC. \n",
    "**We assume that you have completed the previous exercise in which we showed you the basics of CasADi.**\n",
    "If you are working locally (on your computer) you need to have CasADi installed.\n"
   ]
  },
  {
   "cell_type": "markdown",
   "metadata": {
    "graffitiCellId": "id_wbjf19m"
   },
   "source": [
    "Import the required Python packages:"
   ]
  },
  {
   "cell_type": "code",
   "execution_count": null,
   "metadata": {
    "graffitiCellId": "id_xakzowi"
   },
   "outputs": [],
   "source": [
    "import numpy as np\n",
    "import matplotlib.pyplot as plt\n",
    "import matplotlib as mpl\n",
    "from casadi import *"
   ]
  },
  {
   "cell_type": "markdown",
   "metadata": {
    "graffitiCellId": "id_g3vt4n1"
   },
   "source": [
    "We also change some Matplotlib parameters to increase the font size. Here is some [information](https://matplotlib.org/3.2.1/tutorials/introductory/customizing.html) on how this works."
   ]
  },
  {
   "cell_type": "code",
   "execution_count": null,
   "metadata": {
    "graffitiCellId": "id_2d7va02"
   },
   "outputs": [],
   "source": [
    "mpl.rcParams['font.size'] = 16"
   ]
  },
  {
   "cell_type": "markdown",
   "metadata": {
    "colab_type": "text",
    "graffitiCellId": "id_346f9jy",
    "id": "rWoK-9cwegl3"
   },
   "source": [
    "### <span class=\"graffiti-highlight graffiti-id_346f9jy-id_yxlygbd\"><i></i>Define a linear system as a CasADi function</span>"
   ]
  },
  {
   "cell_type": "markdown",
   "metadata": {
    "colab_type": "text",
    "graffitiCellId": "id_lblij6k",
    "id": "PC0We3yq__la"
   },
   "source": [
    "In the following we investigate a simple linear system consisting of two linear oscillating masses which are connected through springs and can be controlled with a single input.\n",
    "<img src=\"./figures/oscillating_masses.png\" style=\"width: 100%;\" align=\"center\"/>\n",
    "\n",
    "We define that linear system in discrete-time state-space form such that:\n",
    "\n",
    "$$ x_{k+1} = Ax_{k}+Bu_{k}$$\n",
    "\n",
    "where $x\\in \\mathbb{R}^n$, are the states of the system\n",
    "and $u \\in \\mathbb{R}^m$ are the inputs.\n",
    "The subscript $k$ and $k+1$ respectively, denote the discrete time instance of these variables.\n",
    "In our case, the states are the displacement of the masses from their resting position as well as their velocity.\n",
    "\n",
    "\n",
    "The state space system is defined in terms of the **system matrix** $A\\in \\mathbb{R}^{n\\times n}$ and the **input matrix** $B\\in \\mathbb{R^{n\\times m}}$. We skip the derivation and parameters of the system and just give you the numerical values of the resulting matrices."
   ]
  },
  {
   "cell_type": "code",
   "execution_count": null,
   "metadata": {
    "colab": {
     "base_uri": "https://localhost:8080/",
     "height": 102
    },
    "colab_type": "code",
    "executionInfo": {
     "elapsed": 9625,
     "status": "ok",
     "timestamp": 1556542025438,
     "user": {
      "displayName": "Felix Fiedler",
      "photoUrl": "https://lh3.googleusercontent.com/-urC6nBibBlU/AAAAAAAAAAI/AAAAAAAAAW4/Z1EWu6T_E74/s64/photo.jpg",
      "userId": "02335246821224636363"
     },
     "user_tz": -120
    },
    "graffitiCellId": "id_i1ywhah",
    "id": "kSgkjSwGek-p",
    "outputId": "d2ea6b8a-730d-42ab-f796-611dbb5e09c4"
   },
   "outputs": [],
   "source": [
    "# System matrix:\n",
    "A = np.array([[ 0.76272095,  0.45961393,  0.11486161,  0.0198116 ],\n",
    "               [-0.89941626,  0.76272095,  0.41999073,  0.11486161],\n",
    "               [ 0.11486161,  0.0198116 ,  0.76272095,  0.45961393],\n",
    "               [ 0.41999073,  0.11486161, -0.89941626,  0.76272095]])\n",
    "nx = A.shape[1]\n",
    "print(A)\n",
    "print('A.shape = {}'.format(A.shape))"
   ]
  },
  {
   "cell_type": "code",
   "execution_count": null,
   "metadata": {
    "colab": {
     "base_uri": "https://localhost:8080/",
     "height": 102
    },
    "colab_type": "code",
    "executionInfo": {
     "elapsed": 9618,
     "status": "ok",
     "timestamp": 1556542025440,
     "user": {
      "displayName": "Felix Fiedler",
      "photoUrl": "https://lh3.googleusercontent.com/-urC6nBibBlU/AAAAAAAAAAI/AAAAAAAAAW4/Z1EWu6T_E74/s64/photo.jpg",
      "userId": "02335246821224636363"
     },
     "user_tz": -120
    },
    "graffitiCellId": "id_b3mflyo",
    "id": "U9xFpTlAfWzB",
    "outputId": "1c902ac2-5066-428c-e1f3-45b06533a419"
   },
   "outputs": [],
   "source": [
    "# The input matrix is defined as\n",
    "B = np.array([[0.01413191],\n",
    "            [0.06277108],\n",
    "            [0.22062828],\n",
    "            [0.36695456]])\n",
    "\n",
    "nu = B.shape[1]\n",
    "print(B)\n",
    "print('B.shape = {}'.format(B.shape))"
   ]
  },
  {
   "cell_type": "markdown",
   "metadata": {
    "colab_type": "text",
    "graffitiCellId": "id_bnzxn8i",
    "id": "MaGG73EAcjzW"
   },
   "source": [
    "## <span class=\"graffiti-highlight graffiti-id_bnzxn8i-id_kfj9kex\"><i></i>Task 1: Investigate the stability of the proposed system</span>"
   ]
  },
  {
   "cell_type": "markdown",
   "metadata": {
    "colab_type": "text",
    "graffitiCellId": "id_w3jd2r4",
    "id": "EEobrm7H1uZo"
   },
   "source": [
    "In a small preliminary task we investigate the stability property of the presented system.\n",
    "For this purpose, we ask you to:\n",
    "\n",
    "1. Determine the Eigenvalues of the system matrix. <br>\n",
    "**On a sidenote**: You can trigger the help / doc string of any function simply by writing:\n",
    "```\n",
    "np.linalg.eig?\n",
    "```\n",
    "2. What is the stability region of time-discrete state-space systems?\n",
    "3. Plot or compare the eigenvalues with the stability criteria."
   ]
  },
  {
   "cell_type": "code",
   "execution_count": null,
   "metadata": {
    "colab": {
     "base_uri": "https://localhost:8080/",
     "height": 283
    },
    "colab_type": "code",
    "executionInfo": {
     "elapsed": 10006,
     "status": "ok",
     "timestamp": 1556542025837,
     "user": {
      "displayName": "Felix Fiedler",
      "photoUrl": "https://lh3.googleusercontent.com/-urC6nBibBlU/AAAAAAAAAAI/AAAAAAAAAW4/Z1EWu6T_E74/s64/photo.jpg",
      "userId": "02335246821224636363"
     },
     "user_tz": -120
    },
    "graffitiCellId": "id_lv9p0bx",
    "id": "lV4XPFEEfB3H",
    "outputId": "bbec3f5a-0a13-483d-9708-696e84d9ef9c"
   },
   "outputs": [],
   "source": [
    "# Your code here!"
   ]
  },
  {
   "cell_type": "markdown",
   "metadata": {
    "graffitiCellId": "id_2osee49"
   },
   "source": [
    "<span class=\"graffiti-highlight graffiti-id_2osee49-id_9cfuiyr\"><i></i><button>Show Solution</button></span>"
   ]
  },
  {
   "cell_type": "markdown",
   "metadata": {
    "colab_type": "text",
    "graffitiCellId": "id_uftxjeh",
    "id": "MDbQ6ctz_xSj"
   },
   "source": [
    "The stability region of a discrete-time system is **within the unit circle**. As the eigenvalues lay directly on this circle, we can conclude that the system is stable but **not** asymptotically stable. "
   ]
  },
  {
   "cell_type": "markdown",
   "metadata": {
    "colab_type": "text",
    "graffitiCellId": "id_0sqw2ph",
    "id": "OlTo9faGdjwX"
   },
   "source": [
    "## <span class=\"graffiti-highlight graffiti-id_0sqw2ph-id_clu8qo8\"><i></i>Task 02: Create a symbolic expression of the state-space system</span>"
   ]
  },
  {
   "cell_type": "markdown",
   "metadata": {
    "colab_type": "text",
    "graffitiCellId": "id_xcpfjm8",
    "id": "B3dGAXSJBoPn"
   },
   "source": [
    "We can also evaluate the state-space system symbolically:\n",
    "1. Create symbolic variables ``x`` and ``u`` with their respective dimension. Note that we already created the variables ``nx`` and ``nu`` above."
   ]
  },
  {
   "cell_type": "code",
   "execution_count": null,
   "metadata": {
    "colab": {},
    "colab_type": "code",
    "graffitiCellId": "id_n3vmn25",
    "id": "kUH_tzwKgVY5"
   },
   "outputs": [],
   "source": [
    "# Write your code here!"
   ]
  },
  {
   "cell_type": "markdown",
   "metadata": {
    "graffitiCellId": "id_3qgdiz3"
   },
   "source": [
    "<span class=\"graffiti-highlight graffiti-id_3qgdiz3-id_rf22qp2\"><i></i><button>Hide Solution</button></span>"
   ]
  },
  {
   "cell_type": "code",
   "execution_count": null,
   "metadata": {
    "graffitiCellId": "id_rf22qp2"
   },
   "outputs": [],
   "source": [
    "x = SX.sym(\"x\",nx,1)\n",
    "u = SX.sym(\"u\",nu,1)\n"
   ]
  },
  {
   "cell_type": "markdown",
   "metadata": {
    "colab_type": "text",
    "graffitiCellId": "id_nmiw0fw",
    "id": "LsPSZB8TeETi"
   },
   "source": [
    "2. Create an symbolic expression for $x_{k+1}$ and a Function that takes two inputs ($x_k$, $u_k$) and returns $x_{k+1}$. This function should be named **system**:\n",
    "```python\n",
    "system = Function(...)\n",
    "```\n",
    "\n",
    "You may need to have a look at this list of [CasADi operations](https://web.casadi.org/docs/#list-of-operations) and the CasADi [function documentation](https://web.casadi.org/docs/#document-function). Additional CasADi operations\n",
    "can be found [here](https://web.casadi.org/python-api/) (poorly documented). Note also that some numpy operations, such as ``np.sin`` can be used with CasADi symbolic variables. \n"
   ]
  },
  {
   "cell_type": "code",
   "execution_count": null,
   "metadata": {
    "colab": {
     "base_uri": "https://localhost:8080/",
     "height": 71
    },
    "colab_type": "code",
    "executionInfo": {
     "elapsed": 9983,
     "status": "ok",
     "timestamp": 1556542025840,
     "user": {
      "displayName": "Felix Fiedler",
      "photoUrl": "https://lh3.googleusercontent.com/-urC6nBibBlU/AAAAAAAAAAI/AAAAAAAAAW4/Z1EWu6T_E74/s64/photo.jpg",
      "userId": "02335246821224636363"
     },
     "user_tz": -120
    },
    "graffitiCellId": "id_kdkbleg",
    "id": "mmw8VObagcVw",
    "outputId": "e1253cca-88b2-4194-d817-e1bec7cee6d0"
   },
   "outputs": [],
   "source": [
    "# Write your code here!"
   ]
  },
  {
   "cell_type": "markdown",
   "metadata": {
    "graffitiCellId": "id_lprjo1o"
   },
   "source": [
    "<span class=\"graffiti-highlight graffiti-id_lprjo1o-id_qcnlkdq\"><i></i><button>Hide Solution</button></span>"
   ]
  },
  {
   "cell_type": "code",
   "execution_count": null,
   "metadata": {
    "graffitiCellId": "id_qcnlkdq"
   },
   "outputs": [],
   "source": [
    "\n",
    "x_next = A@x + B@u \n",
    "\n",
    "# Create the CasADi function\n",
    "system = Function(\"sys\",[x,u],[x_next])\n",
    "\n",
    "print(x_next)\n"
   ]
  },
  {
   "cell_type": "markdown",
   "metadata": {
    "colab_type": "text",
    "graffitiCellId": "id_2gfihsu",
    "id": "Zp1mSjbzeosk"
   },
   "source": [
    "3. Run the following code and see if it returns:\n",
    "```\n",
    "DM([1.37114, 0.460928, 1.57764, 0.765112])\n",
    "```\n",
    "\n",
    "\n"
   ]
  },
  {
   "cell_type": "code",
   "execution_count": null,
   "metadata": {
    "colab": {
     "base_uri": "https://localhost:8080/",
     "height": 34
    },
    "colab_type": "code",
    "executionInfo": {
     "elapsed": 9972,
     "status": "ok",
     "timestamp": 1556542025842,
     "user": {
      "displayName": "Felix Fiedler",
      "photoUrl": "https://lh3.googleusercontent.com/-urC6nBibBlU/AAAAAAAAAAI/AAAAAAAAAW4/Z1EWu6T_E74/s64/photo.jpg",
      "userId": "02335246821224636363"
     },
     "user_tz": -120
    },
    "graffitiCellId": "id_k3z69ow",
    "id": "V56IBI23IVrE",
    "outputId": "6aa298df-b19b-4645-8fa6-f66b3776067e"
   },
   "outputs": [],
   "source": [
    "x0 = np.ones((4,1))\n",
    "u0 = np.ones((1,1))\n",
    "system(x0,u0)"
   ]
  },
  {
   "cell_type": "markdown",
   "metadata": {
    "graffitiCellId": "id_gm9vw9v"
   },
   "source": [
    "**Just a small hint** for the implementation shown later (maybe this will not mean anything to you just yet): You can also call functions with symbolic variables, e.g.:"
   ]
  },
  {
   "cell_type": "code",
   "execution_count": null,
   "metadata": {
    "graffitiCellId": "id_wypi9dr"
   },
   "outputs": [],
   "source": [
    "a = SX.sym(\"a\", nx, 1)\n",
    "b = SX.sym(\"b\", nu, 1)\n",
    "\n",
    "a_next = system(a,b)\n",
    "\n",
    "print(a_next)"
   ]
  },
  {
   "cell_type": "markdown",
   "metadata": {
    "graffitiCellId": "id_j5co27b"
   },
   "source": [
    "We have thus obtained the same expression as defined above but in terms of a new set of variables."
   ]
  },
  {
   "cell_type": "markdown",
   "metadata": {
    "colab_type": "text",
    "graffitiCellId": "id_ck7ouy3",
    "id": "622rtWOZhg6J"
   },
   "source": [
    "## <span class=\"graffiti-highlight graffiti-id_ck7ouy3-id_7kefe9q\"><i></i>Task 03: Simulate a linear discrete-time system</span>\n",
    "We first define the initial condition ``x_0`` and the control input ``u_k`` (constant for all times). \n",
    "We also initiate a new list to store the solution of the simulation, where the first element is ``x_0``.\n",
    "\n",
    "The system will be simulated for ``N_sim=50`` steps."
   ]
  },
  {
   "cell_type": "code",
   "execution_count": null,
   "metadata": {
    "colab": {},
    "colab_type": "code",
    "graffitiCellId": "id_j3w1z5o",
    "id": "L03PdroCfp-r"
   },
   "outputs": [],
   "source": [
    "# Define the total steps to simulate\n",
    "N_sim = 50\n",
    "# Define the initial condition\n",
    "x_0 = np.array([-2,2,1,-1]).reshape(4,1)\n",
    "# Define the input (for the moment consider u = 0)\n",
    "u_k = np.array([[0]])\n",
    "\n",
    "res_x = [x_0]"
   ]
  },
  {
   "cell_type": "markdown",
   "metadata": {
    "colab_type": "text",
    "graffitiCellId": "id_5xj546z",
    "id": "rD7A66ZNfwth"
   },
   "source": [
    "1. Loop over ``i=0...N_sim`` and evaluate the update equation at each step.\n",
    "2. Reset the initial state \n",
    "3. Save the current state by appending it to ``res_x``\n",
    "\n",
    "4. After the loop has finished, concatenate the arrays in the list ``res_x``, such that you obtain an array of shape ``(nx, N_sim)``."
   ]
  },
  {
   "cell_type": "code",
   "execution_count": null,
   "metadata": {
    "colab": {},
    "colab_type": "code",
    "graffitiCellId": "id_ydoq15f",
    "id": "xhp0wVpdheQm"
   },
   "outputs": [],
   "source": [
    "# Write your code here!\n"
   ]
  },
  {
   "cell_type": "markdown",
   "metadata": {
    "graffitiCellId": "id_l8rwidz"
   },
   "source": [
    "<span class=\"graffiti-highlight graffiti-id_l8rwidz-id_bqi2n3d\"><i></i><button>Hide Solution</button></span>"
   ]
  },
  {
   "cell_type": "code",
   "execution_count": null,
   "metadata": {
    "graffitiCellId": "id_bqi2n3d"
   },
   "outputs": [],
   "source": [
    "\n",
    "for i in range(N_sim):\n",
    "    x_next = system(x_0,u_k)\n",
    "    res_x.append(x_next)\n",
    "    x_0 = x_next\n",
    "\n",
    "# Make an array from the list of arrays:\n",
    "res_x = np.concatenate(res_x,axis=1)\n"
   ]
  },
  {
   "cell_type": "markdown",
   "metadata": {
    "graffitiCellId": "id_csnp26u"
   },
   "source": [
    "We check the resulting dimension:"
   ]
  },
  {
   "cell_type": "code",
   "execution_count": null,
   "metadata": {
    "graffitiCellId": "id_er0jjz1"
   },
   "outputs": [],
   "source": [
    "res_x.shape"
   ]
  },
  {
   "cell_type": "markdown",
   "metadata": {
    "graffitiCellId": "id_nvowyhn"
   },
   "source": [
    "This should yield ``(4,51)``"
   ]
  },
  {
   "cell_type": "markdown",
   "metadata": {
    "colab_type": "text",
    "graffitiCellId": "id_hrpm8fg",
    "id": "DFKf9gsvhsHs"
   },
   "source": [
    "## Plotting the results\n",
    "We have prepared this code to plot your simulation results:"
   ]
  },
  {
   "cell_type": "code",
   "execution_count": null,
   "metadata": {
    "colab": {
     "base_uri": "https://localhost:8080/",
     "height": 573
    },
    "colab_type": "code",
    "executionInfo": {
     "elapsed": 10377,
     "status": "ok",
     "timestamp": 1556542026279,
     "user": {
      "displayName": "Felix Fiedler",
      "photoUrl": "https://lh3.googleusercontent.com/-urC6nBibBlU/AAAAAAAAAAI/AAAAAAAAAW4/Z1EWu6T_E74/s64/photo.jpg",
      "userId": "02335246821224636363"
     },
     "user_tz": -120
    },
    "graffitiCellId": "id_3zvinzf",
    "id": "UtBlhvx05zwN",
    "outputId": "02a06bbc-c9a3-443e-e483-0063f497056f"
   },
   "outputs": [],
   "source": [
    "fig, ax = plt.subplots(figsize=(10,6))\n",
    "\n",
    "# plot the states\n",
    "lines = ax.plot(res_x.T)\n",
    "ax.legend(lines, ['mass 1 pos.', 'mass 1 vel.', 'mass 2 pos.', 'mass 2 vel.'])\n",
    "\n",
    "# Set labels\n",
    "ax.set_ylabel('states')\n",
    "ax.set_xlabel('time')\n"
   ]
  },
  {
   "cell_type": "markdown",
   "metadata": {
    "graffitiCellId": "id_4o5c1ey"
   },
   "source": [
    "As expected, the system is stable but not asymptotically stable."
   ]
  },
  {
   "cell_type": "markdown",
   "metadata": {
    "colab_type": "text",
    "graffitiCellId": "id_v2py8q2",
    "id": "yj6dEJhMALpS"
   },
   "source": [
    "# <span class=\"graffiti-highlight graffiti-id_v2py8q2-id_qc6m8mb\"><i></i>MPC Tutorial</span>\n",
    "\n",
    "We want to formulate the following discrete-time MPC problem:\n",
    "\n",
    "\\begin{align}\n",
    "    & \\min_{\\begin{array}{c}\n",
    "    x_0,\\ \\dots, \\ x_{N+1},\\\\ \n",
    "    u_0,\\ \\dots,\\ u_{N} \\end{array}} \\quad &\\sum_{k=0}^N l(x_k,u_k) + m(x_{k+N}) \\\\\n",
    "    \\text{subject to:} \\quad & x_0 = x_{\\text{init}}, & \\\\\n",
    "    & x_{k+1} = f(x_k,u_k) &,\\\\\n",
    "    & x_{\\text{lb}} \\leq x_k \\leq x_{\\text{ub}}, &\\, \\forall k= 0,\\dots, N+1, \\\\\n",
    "    & u_{\\text{lb}} \\leq u_k \\leq u_{\\text{ub}}, &\\, \\forall k= 0,\\dots, N, \\\\\n",
    "\\end{align}\n",
    "\n",
    "The objective of the MPC controller is to regulate the system. Regulation means that the states are brought to zero. To achieve this goal we use a very common quadratic cost function, where for every time step $k$ of the horizon the following expression should be minimized:\n",
    "\n",
    "$$l(x_k,u_k) = x_k^T Q x_k + u_k^T R u_k $$\n",
    "\n",
    "where Q and R are positive definite diagonal matrices. \n",
    "For the terminal cost we have a slightly altered expression:\n",
    "\n",
    "$$ m(x_{N+1}) = x_{N+1}^T P x_{N+1}, $$ \n",
    "\n",
    "since $u_{N+1}$ does not exist. **Note** that in this example we choose $P=Q$ for simplicity. \n",
    "\n",
    "\n",
    "Implementing and running the MPC controller for the previously introduced system and with the shown cost function can be roughly split into three steps. These steps are shown in the following.\n",
    "\n",
    "## 1. Configuration for a generic stage \n",
    "\n",
    "The MPC optimization problem can be seen as having multiple stages corresponding to the time-steps of the prediction horizon. Stages are interconnected through the dynamic state equation and individually contribute to the MPC cost function. \n",
    "We advice to start the MPC implementation by configuring all components for a generic stage.\n",
    "These components are \n",
    "\n",
    "- dynamic state equation\n",
    "- the stage cost function (terminal cost function for the last state of the sequence)\n",
    "- constraints for stage variables (upper and lower bounds in this example)\n",
    "\n",
    "As you will see later, it is convenient to obtain CasADi functions for the first and second component. \n",
    "Since we have already created the **dynamic state equation in CasADi** above, it remains to obtain the **state and terminal cost functions** and to define the **upper and lower bounds for the optimization variables**."
   ]
  },
  {
   "cell_type": "markdown",
   "metadata": {
    "colab_type": "text",
    "graffitiCellId": "id_z6qtudg",
    "id": "crF4V0unqaok"
   },
   "source": [
    "## Cost function\n",
    "\n",
    "\n",
    "### Tuning\n",
    "Above we have formulated the cost function with arbitrary (positve definite) matrices. For the implementation you need to choose numerical values which will effect your controller performance. We provide here some values that yield a working controller but **you are invited to play with these values, once the algorithm is running.**"
   ]
  },
  {
   "cell_type": "code",
   "execution_count": null,
   "metadata": {
    "colab": {
     "base_uri": "https://localhost:8080/",
     "height": 85
    },
    "colab_type": "code",
    "executionInfo": {
     "elapsed": 10358,
     "status": "ok",
     "timestamp": 1556542026287,
     "user": {
      "displayName": "Felix Fiedler",
      "photoUrl": "https://lh3.googleusercontent.com/-urC6nBibBlU/AAAAAAAAAAI/AAAAAAAAAW4/Z1EWu6T_E74/s64/photo.jpg",
      "userId": "02335246821224636363"
     },
     "user_tz": -120
    },
    "graffitiCellId": "id_ij76zs2",
    "id": "jAkc9axsr9ER",
    "outputId": "fd0e2a27-ea2a-4633-9aa3-d8df4614722d"
   },
   "outputs": [],
   "source": [
    "Q = 20\n",
    "Q = Q*np.diag(np.ones(nx))\n",
    "print(Q)"
   ]
  },
  {
   "cell_type": "code",
   "execution_count": null,
   "metadata": {
    "cellView": "both",
    "colab": {
     "base_uri": "https://localhost:8080/",
     "height": 34
    },
    "colab_type": "code",
    "executionInfo": {
     "elapsed": 10566,
     "status": "ok",
     "timestamp": 1556542026506,
     "user": {
      "displayName": "Felix Fiedler",
      "photoUrl": "https://lh3.googleusercontent.com/-urC6nBibBlU/AAAAAAAAAAI/AAAAAAAAAW4/Z1EWu6T_E74/s64/photo.jpg",
      "userId": "02335246821224636363"
     },
     "user_tz": -120
    },
    "graffitiCellId": "id_9nkd3eh",
    "id": "Isu83TFpqrTt",
    "outputId": "349d7706-00d2-4aca-e748-3446e43440ac",
    "scrolled": false
   },
   "outputs": [],
   "source": [
    "R = 10\n",
    "R = np.diag(R*np.ones(nu))\n",
    "print(R)"
   ]
  },
  {
   "cell_type": "markdown",
   "metadata": {
    "graffitiCellId": "id_tu5ujr9"
   },
   "source": [
    "Another important parameter to choose is the prediction horizon. This determines \"how far we look into the future\". Note that an optimal solution does not guarante stability. **Feel free to test other values for the horizon**."
   ]
  },
  {
   "cell_type": "code",
   "execution_count": null,
   "metadata": {
    "colab": {},
    "colab_type": "code",
    "graffitiCellId": "id_u98n11k",
    "id": "R1AbPmg6rAnG"
   },
   "outputs": [],
   "source": [
    "N = 15"
   ]
  },
  {
   "cell_type": "markdown",
   "metadata": {
    "colab_type": "text",
    "graffitiCellId": "id_5hy2rsz",
    "id": "goUL31jkKc1g"
   },
   "source": [
    "## Task 04: Construct CasADi objective function\n",
    "Construct the cost function for the generic stage variables `x` and `u` and create CasADi functions from the resulting expressions. Also create the terminal cost as a function of `x`.\n",
    "\n",
    "The resulting ``Function`` objects should be called \n",
    "- ``stage_cost_fcn``\n",
    "- ``terminal_cost_fcn``"
   ]
  },
  {
   "cell_type": "code",
   "execution_count": null,
   "metadata": {
    "colab": {},
    "colab_type": "code",
    "graffitiCellId": "id_a0lyuuy",
    "id": "ni3d3feSKjoc"
   },
   "outputs": [],
   "source": [
    "# Write your code here!"
   ]
  },
  {
   "cell_type": "markdown",
   "metadata": {
    "graffitiCellId": "id_si47n14"
   },
   "source": [
    "<span class=\"graffiti-highlight graffiti-id_si47n14-id_dpqymsi\"><i></i><button>Hide Solution</button></span>"
   ]
  },
  {
   "cell_type": "code",
   "execution_count": null,
   "metadata": {
    "graffitiCellId": "id_dpqymsi"
   },
   "outputs": [],
   "source": [
    "\n",
    "# state cost\n",
    "stage_cost = x.T@Q@x+ u.T@R@u\n",
    "stage_cost_fcn = Function('stage_cost',[x,u],[stage_cost])\n",
    "\n",
    "# terminal cost\n",
    "terminal_cost = x.T@Q@x\n",
    "terminal_cost_fcn = Function('terminal_cost',[x],[terminal_cost])\n"
   ]
  },
  {
   "cell_type": "markdown",
   "metadata": {
    "graffitiCellId": "id_id6t981"
   },
   "source": [
    "### Upper and lower bounds for stage variables:\n",
    "These are suggested values that can be changed later."
   ]
  },
  {
   "cell_type": "code",
   "execution_count": null,
   "metadata": {
    "graffitiCellId": "id_3xr5z5w"
   },
   "outputs": [],
   "source": [
    "# state constraints\n",
    "lb_x = -4*np.ones((nx,1))\n",
    "ub_x = 4*np.ones((nx,1))\n",
    "# input constraints\n",
    "lb_u = -1.5*np.ones((nu,1))\n",
    "ub_u = 1.5*np.ones((nu,1))"
   ]
  },
  {
   "cell_type": "markdown",
   "metadata": {
    "graffitiCellId": "id_ostqpeu"
   },
   "source": [
    "## <span class=\"graffiti-highlight graffiti-id_ostqpeu-id_0yfll0e\"><i></i>2. Create the optimization problem</span>\n",
    "\n",
    "The second step of the process is already to create the optimization problem. Note that we want to end up with something like this:\n",
    "\n",
    "$$\n",
    "\\min_{x} \\quad J(x)\\\\\n",
    "\\text{s.t.} \\quad g_{lb}\\leq g(x)\\leq g_{ub}\\\\\n",
    "\\quad \\ x_{lb}\\leq x \\leq x_{ub}\n",
    "$$\n",
    "\n",
    "We thus need to create the cost function $J(x)$ and the constraint functions $g(x)$. But first of all, **we need to create our optimization variables**. These are not the previously introduced\n",
    "\n",
    "```python\n",
    "x = SX.sym(\"x\",nx,1)\n",
    "u = SX.sym(\"u\",nu,1)\n",
    "```\n",
    "\n",
    "because we are optimizing over **sequences of states and inputs**."
   ]
  },
  {
   "cell_type": "markdown",
   "metadata": {
    "colab_type": "text",
    "graffitiCellId": "id_0h20o1t",
    "id": "yxIgL958xgmE"
   },
   "source": [
    "## Define optimization variables\n",
    "\n",
    "Note that the upper cases variables ``X`` and ``U`` are stacked vectors that **contain the states and inputs for all time-steps**. Also note that ``X`` contains one additional sequence element than ``U``."
   ]
  },
  {
   "cell_type": "code",
   "execution_count": null,
   "metadata": {
    "colab": {},
    "colab_type": "code",
    "graffitiCellId": "id_ibq6dp1",
    "id": "szd-ueGRxlFC"
   },
   "outputs": [],
   "source": [
    "X = SX.sym(\"X\",(N+1)*nx,1)\n",
    "U = SX.sym(\"U\",N*nu,1)"
   ]
  },
  {
   "cell_type": "markdown",
   "metadata": {
    "graffitiCellId": "id_c6spdcu"
   },
   "source": [
    "## Task 05: Formulate MPC optimization problem\n",
    "We are now prepared to formulate the MPC optimization problem, which consists of the cost ``J\n",
    "``, the constraints ``g`` and the bounds. We start by initializing these variables:"
   ]
  },
  {
   "cell_type": "code",
   "execution_count": null,
   "metadata": {
    "graffitiCellId": "id_cdizy83"
   },
   "outputs": [],
   "source": [
    "J = 0\n",
    "lb_X = [] # lower bound for X.\n",
    "ub_X = [] # upper bound for X\n",
    "lb_U = [] # lower bound for U\n",
    "ub_U = [] # upper bound for U\n",
    "g = []    # constraint expression g\n",
    "lb_g = []  # lower bound for constraint expression g\n",
    "ub_g = []  # upper bound for constraint expression g"
   ]
  },
  {
   "cell_type": "markdown",
   "metadata": {
    "graffitiCellId": "id_2dxnu5a"
   },
   "source": [
    "**The idea is now the following**. We are looping over the different stages of our prediction horizon:\n",
    "\n",
    "```python\n",
    "for k in range(N):\n",
    "    ...\n",
    "```\n",
    "\n",
    "and at each iteration we append the stage:\n",
    "- cost\n",
    "- constraints\n",
    "- bounds\n",
    "\n",
    "in terms of the stage variables ``x_k`` and ``u_k``. \n",
    "Fortunately, we have already defined the functions:\n",
    "\n",
    "- ``stage_cost_fcn(x_k,u_k)`` (stage cost)\n",
    "- ``system(x_k,u_k)`` (dynamic state equation)\n",
    "- ``terminal_cost_fcn(x_N+1)`` (terminal cost)\n",
    "\n",
    "which now come very handy! \n",
    "\n",
    "The **dynamic state equation** is enforced by adding the following constraint at each stage:\n",
    "```\n",
    "g_k = f(x_k, u_k) - x_{k+1}\n",
    "```\n",
    "\n",
    "Since the stage variables ``x_k`` and ``u_k`` are part of the stacked vectors ``X`` and ``U``,\n",
    "we first have to retrieve them by slicing.\n",
    "\n",
    "The full loop to create the optimization problem must thus look something like this:\n",
    "\n",
    "```python\n",
    "for k in range(N):\n",
    "    # Use slicing to obtain stage variables\n",
    "    x_k = X[]\n",
    "    u_k = U[]\n",
    "    \n",
    "    ...\n",
    "    \n",
    "    # Cost\n",
    "    J += stage_cost\n",
    "    \n",
    "    # constraints\n",
    "    g.append(stage_constraint)\n",
    "    \n",
    "    # bounds\n",
    "    lb_X.append(lb_x)\n",
    "    ...\n",
    "```"
   ]
  },
  {
   "cell_type": "markdown",
   "metadata": {
    "colab_type": "text",
    "graffitiCellId": "id_499daj9",
    "id": "MZW54sWD8Y7K"
   },
   "source": [
    "With this idea in mind, complement the following code.\n",
    "We have numbered sections corresponding to their respective sub tasks as shown below:\n",
    "\n",
    "```\n",
    "# 01 - Your code here!\n",
    "x = \n",
    "...\n",
    "# 01\n",
    "```\n",
    "\n",
    "### Your tasks:\n",
    "1. Use slices to query the following elements of ``X`` and ``U`` at the different stages:\n",
    "  - ``x_k``\n",
    "  - ``x_k_next``\n",
    "  - ``u_k``\n",
    "2. Add the cost of the current stage to the stage cost.\n",
    "3. Evaluate the system equation **symbolically** to determine ``x_k_next_calc``.\n",
    "4. Add the equality constraint that ``x_k_next = x_k_next_calc``. Append the expression to ``g`` and update ``lb_g``, ``ub_g`` accordingly.\n",
    "5. Append the upper and lower bounds for ``x_k`` and ``u_k`` to ``lb_X``, ``ub_X``."
   ]
  },
  {
   "cell_type": "code",
   "execution_count": null,
   "metadata": {
    "colab": {
     "base_uri": "https://localhost:8080/",
     "height": 34
    },
    "colab_type": "code",
    "executionInfo": {
     "elapsed": 10510,
     "status": "ok",
     "timestamp": 1556542026521,
     "user": {
      "displayName": "Felix Fiedler",
      "photoUrl": "https://lh3.googleusercontent.com/-urC6nBibBlU/AAAAAAAAAAI/AAAAAAAAAW4/Z1EWu6T_E74/s64/photo.jpg",
      "userId": "02335246821224636363"
     },
     "user_tz": -120
    },
    "graffitiCellId": "id_1ujtvr5",
    "id": "ElSylwAr8jSj",
    "outputId": "3f675e04-4490-46bc-e371-5a36b5996f01",
    "scrolled": true
   },
   "outputs": [],
   "source": [
    "# formulate optimization problem\n",
    "\n",
    "for k in range(N):\n",
    "    # 01 - Your code here!\n",
    "\n",
    "    \n",
    "\n",
    "    # 02 - Your code here!\n",
    "\n",
    "    \n",
    "    \n",
    "    # 03 - Your code here!\n",
    "\n",
    "\n",
    "\n",
    "    # 04 - Your code here!\n",
    "\n",
    "\n",
    "\n",
    "    # 05 - Your code here!\n",
    "\n"
   ]
  },
  {
   "cell_type": "markdown",
   "metadata": {
    "graffitiCellId": "id_32pqtm0"
   },
   "source": [
    "<span class=\"graffiti-highlight graffiti-id_32pqtm0-id_kyb7tut\"><i></i><button>Show Solution</button></span>"
   ]
  },
  {
   "cell_type": "markdown",
   "metadata": {
    "graffitiCellId": "id_yhghnk7"
   },
   "source": [
    "6. Finally, you need to include the constraints and terminal cost for the last state of the sequence. \n",
    "Since we stop at this stage there is no need to consider the dynamic state equation again."
   ]
  },
  {
   "cell_type": "code",
   "execution_count": null,
   "metadata": {
    "graffitiCellId": "id_hhn0t2h"
   },
   "outputs": [],
   "source": [
    "# Your code here!"
   ]
  },
  {
   "cell_type": "markdown",
   "metadata": {
    "graffitiCellId": "id_eyn1bt9"
   },
   "source": [
    "<span class=\"graffiti-highlight graffiti-id_eyn1bt9-id_13rvrth\"><i></i><button>Hide Solution</button></span>"
   ]
  },
  {
   "cell_type": "code",
   "execution_count": null,
   "metadata": {
    "graffitiCellId": "id_13rvrth"
   },
   "outputs": [],
   "source": [
    "x_terminal = X[N*nx:(N+1)*nx,:]\n",
    "J += terminal_cost_fcn(x_terminal)\n",
    "lb_X.append(lb_x)\n",
    "ub_X.append(ub_x)\n"
   ]
  },
  {
   "cell_type": "markdown",
   "metadata": {
    "graffitiCellId": "id_c3vg46h"
   },
   "source": [
    "## <span class=\"graffiti-highlight graffiti-id_c3vg46h-id_plnfws9\"><i></i>Task 06: Create the CasADi solver for the optimization problem</span>\n",
    "To solve the problem defined above, we first need to create a CasADi ``nlpsol`` object, where an optimization problem is defined as shown here:\n",
    "\n",
    "$$\n",
    "\\min_{x} \\quad J(x)\\\\\n",
    "\\text{s.t.} \\quad g_{lb}\\leq g(x)\\leq g_{ub}\\\\\n",
    "\\quad \\ x_{lb}\\leq x \\leq x_{ub}\n",
    "$$\n",
    "\n",
    "Note that CasADi expects a single vector ``x`` as the optimization variables with corresponding upper and lower bound. \n",
    "You should thus:\n",
    "\n",
    "- concatenate ``X`` and ``U`` to a single optimization variable.\n",
    "- concatenate the bounds \n",
    "- Create the CasADi ``nlpsol`` object as described [here](https://web.casadi.org/docs/#nonlinear-programming).\n",
    "\n",
    "**Note**: You will need the CasADi ``vertcat`` function which takes an arbitrary number of inputs. You can use the **splat** operator (*) to pass multiple inputs to a function which originate from a list, e.g.:\n",
    "\n",
    "```python\n",
    "vertcat(a,b,c,d)\n",
    "# or \n",
    "vertcat(*[a,b,c,d])\n",
    "# or \n",
    "vertcat(*[a,b],*[c,d])\n",
    "```\n",
    "whereas:\n",
    "```python\n",
    "vertcat([a,b,c,d])\n",
    "```\n",
    "will throw an error."
   ]
  },
  {
   "cell_type": "code",
   "execution_count": null,
   "metadata": {
    "graffitiCellId": "id_hwuggfc"
   },
   "outputs": [],
   "source": [
    "# Your code here!"
   ]
  },
  {
   "cell_type": "markdown",
   "metadata": {
    "graffitiCellId": "id_gb1od5w"
   },
   "source": [
    "<span class=\"graffiti-highlight graffiti-id_gb1od5w-id_57awt6v\"><i></i><button>Hide Solution</button></span>"
   ]
  },
  {
   "cell_type": "code",
   "execution_count": null,
   "metadata": {
    "graffitiCellId": "id_57awt6v"
   },
   "outputs": [],
   "source": [
    "lbx = vertcat(*lb_X, *lb_U)\n",
    "ubx = vertcat(*ub_X, *ub_U)\n",
    "x = vertcat(X,U)\n",
    "g = vertcat(*g)\n",
    "lbg = vertcat(*lb_g)\n",
    "ubg = vertcat(*ub_g)\n",
    "\n",
    "prob = {'f':J,'x':x,'g':g}\n",
    "solver = nlpsol('solver','ipopt',prob)\n"
   ]
  },
  {
   "cell_type": "markdown",
   "metadata": {
    "graffitiCellId": "id_imi5mp0"
   },
   "source": [
    "# 3. <span class=\"graffiti-highlight graffiti-id_imi5mp0-id_3k6fiej\"><i></i>MPC loop</span>\n",
    "\n",
    "Now that we have the configured solver, we can see how the MPC controller performs in action. The procedure of the main loop is illustrated in this figure:\n",
    "\n",
    "<img src=\"./figures/mpc_loop.svg\" style=\"width: 80%;\" align=\"center\"/>"
   ]
  },
  {
   "cell_type": "markdown",
   "metadata": {
    "graffitiCellId": "id_a40gfo5"
   },
   "source": [
    "At each iteration we have to call the solver which has the following inputs:"
   ]
  },
  {
   "cell_type": "code",
   "execution_count": null,
   "metadata": {
    "graffitiCellId": "id_g25rg9h"
   },
   "outputs": [],
   "source": [
    "print(solver)"
   ]
  },
  {
   "cell_type": "markdown",
   "metadata": {
    "colab_type": "text",
    "graffitiCellId": "id_41qkv13",
    "id": "nj4QZHwxrrlI"
   },
   "source": [
    "- **x0:** This is not the state but the initial guess for the optimization variables (``X`` and ``U``). The initial guess is optional but in many cases crucial for the success of the solver.\n",
    "- **lbx:** Lower bounds to both states and control inputs. These are defined already.\n",
    "- **ubx:** Upper bounds to both states and control inputs. These are defined already.\n",
    "- **lbg:** Lower bounds for expression ``g``. As ``g`` contains only equality constraints, both upper and lower bounds are set to the same value.\n",
    "- **ubg:** Upper bounds for expression ``g``. As ``g`` contains only equality constraints, both upper and lower bounds are set to the same value.\n",
    "\n",
    "\n",
    "**Note**: As is common practice, we use the constraints ``lbx``and ``ubx`` to enforce the initial state, **which is reset at every MPC iteration**. ``lbx``and ``ubx`` are the concatenated bounds for all $x_k$ and $u_k$.\n",
    "\n",
    "\n",
    "## Task 07: Run the solver and investigate the output\n",
    "\n",
    "Before we run the final loop, let's just call the solver with some sane inputs and investigate the solution.\n",
    "\n",
    "- fix the initial state by using the optimization variable bounds\n",
    "- run the solver. Pass at least ``lbx, ubx, lbg, ubg``.\n",
    "- extract the sequence of states ``X`` as an ``(N+1, n_x)`` array\n",
    "- extract the sequence of states ``U`` as an ``(N, n_u)`` array\n",
    "\n",
    "**Note**, the call:\n",
    "```python \n",
    "res = solver( ... ) \n",
    "```\n",
    "\n",
    "returns a dictionary, with the following fields:\n",
    "- ``f`` - the optimal cost\n",
    "- ``g`` - the values of the constraints\n",
    "- ``lam_g`` - the lagrange multipliers for ``g``\n",
    "- ``lam_x`` - the lagrange multipliers for ``x``\n",
    "- ``x`` - the optimal solution\n",
    "\n",
    "You usually want to extract ``res['x']``."
   ]
  },
  {
   "cell_type": "code",
   "execution_count": null,
   "metadata": {
    "graffitiCellId": "id_nrb06gf"
   },
   "outputs": [],
   "source": [
    "x_0 = np.array([-2,2,1,-1]).reshape(4,1)"
   ]
  },
  {
   "cell_type": "code",
   "execution_count": null,
   "metadata": {
    "graffitiCellId": "id_e7ag2bq"
   },
   "outputs": [],
   "source": [
    "# Write your code here!"
   ]
  },
  {
   "cell_type": "markdown",
   "metadata": {
    "graffitiCellId": "id_q9mu7j4"
   },
   "source": [
    "<span class=\"graffiti-highlight graffiti-id_q9mu7j4-id_jhna2e1\"><i></i><button>Hide Solution</button></span>"
   ]
  },
  {
   "cell_type": "code",
   "execution_count": null,
   "metadata": {
    "graffitiCellId": "id_jhna2e1"
   },
   "outputs": [],
   "source": [
    "lbx[:nx]=x_0\n",
    "ubx[:nx]=x_0\n",
    "\n",
    "res = solver(lbx=lbx,ubx=ubx,lbg=lbg,ubg=ubg)\n",
    "\n",
    "X = res['x'][:(N+1)*nx].full().reshape(N+1, nx)\n",
    "U = res['x'][(N+1)*nx:].full().reshape(N, nu)\n"
   ]
  },
  {
   "cell_type": "markdown",
   "metadata": {
    "graffitiCellId": "id_wsbddgo"
   },
   "source": [
    "Please make sure that the solver returned with:\n",
    "\n",
    "```\n",
    "EXIT: Optimal Solution Found.\n",
    "```\n",
    "otherwise we cannot expect anything from the solution!\n",
    "\n"
   ]
  },
  {
   "cell_type": "markdown",
   "metadata": {
    "graffitiCellId": "id_obt66k0"
   },
   "source": [
    "### <span class=\"graffiti-highlight graffiti-id_obt66k0-id_w78d8lw\"><i></i>Visualizing the prediction</span>\n",
    "Below we plot the predicted states and inputs. \n",
    "We can see that the optimizer finds a solution that drives the states slowly to zero.\n",
    "Furthermore, we observe that the constraints (visible for the inputs) are satisfied. \n",
    "Please also validate that your initial state is as defined."
   ]
  },
  {
   "cell_type": "code",
   "execution_count": null,
   "metadata": {
    "graffitiCellId": "id_x57tamz"
   },
   "outputs": [],
   "source": [
    "fig, ax = plt.subplots(2,1, figsize=(10,8), sharex=True)\n",
    "ax[0].plot(X)\n",
    "ax[1].plot(U)\n",
    "ax[0].set_ylabel('states')\n",
    "ax[1].set_ylabel('control input')\n",
    "ax[1].set_xlabel('time')\n",
    "\n",
    "# Highlight the selected initial state (the lines should start here!)\n",
    "ax[0].plot(0,x_0.T, 'o', color='black')\n",
    "\n",
    "fig.align_ylabels()\n",
    "fig.tight_layout()"
   ]
  },
  {
   "cell_type": "markdown",
   "metadata": {
    "graffitiCellId": "id_afy7y4e"
   },
   "source": [
    "## Task 08: Create and run MPC main loop\n",
    "Now that everything is working, we can finally run the MPC loop.\n",
    "At each iteration:\n",
    "\n",
    "- fix the initial state by using the optimization variable bounds\n",
    "- run the solver. Pass at least ``lbx, ubx, lbg, ubg``.\n",
    "- extract the **current** control input from the optimal solution\n",
    "- similarly to **Task 03:** Simulate the system (with the obtained control input) and obtain the next state\n",
    "- store the current state and solution to ``res_x`` and ``res_u``\n",
    "- reset the initial state to the next state"
   ]
  },
  {
   "cell_type": "code",
   "execution_count": null,
   "metadata": {
    "colab": {
     "base_uri": "https://localhost:8080/",
     "height": 47940
    },
    "colab_type": "code",
    "executionInfo": {
     "elapsed": 11018,
     "status": "ok",
     "timestamp": 1556542027042,
     "user": {
      "displayName": "Felix Fiedler",
      "photoUrl": "https://lh3.googleusercontent.com/-urC6nBibBlU/AAAAAAAAAAI/AAAAAAAAAW4/Z1EWu6T_E74/s64/photo.jpg",
      "userId": "02335246821224636363"
     },
     "user_tz": -120
    },
    "graffitiCellId": "id_kmmhk01",
    "id": "o__F58xDrvEK",
    "outputId": "d9be126c-ac05-4e40-df85-b139dc5a1cb4"
   },
   "outputs": [],
   "source": [
    "x_0 = np.array([-2,2,1,-1]).reshape(4,1)\n",
    "res_x = [x_0]\n",
    "res_u = []\n",
    "\n",
    "N_sim = 50"
   ]
  },
  {
   "cell_type": "code",
   "execution_count": null,
   "metadata": {
    "graffitiCellId": "id_asrgxxb"
   },
   "outputs": [],
   "source": [
    "# Write your code here:"
   ]
  },
  {
   "cell_type": "markdown",
   "metadata": {
    "graffitiCellId": "id_4t5oguw"
   },
   "source": [
    "<span class=\"graffiti-highlight graffiti-id_4t5oguw-id_8t63dla\"><i></i><button>Show Solution</button></span>"
   ]
  },
  {
   "cell_type": "markdown",
   "metadata": {
    "colab_type": "text",
    "graffitiCellId": "id_2vymq27",
    "id": "gSmHwSCbAZZ6"
   },
   "source": [
    "### Plot the results\n",
    "We have again prepared a plot for you to visualize the obtained solution."
   ]
  },
  {
   "cell_type": "code",
   "execution_count": null,
   "metadata": {
    "graffitiCellId": "id_0y9az6n"
   },
   "outputs": [],
   "source": [
    "fig, ax = plt.subplots(2,1, figsize=(10,8), sharex=True)\n",
    "ax[0].plot(res_x.T)\n",
    "ax[1].plot(res_u.T)\n",
    "ax[0].set_ylabel('states')\n",
    "ax[1].set_ylabel('control input')\n",
    "ax[1].set_xlabel('time')\n",
    "\n",
    "fig.align_ylabels()\n",
    "fig.tight_layout()"
   ]
  },
  {
   "cell_type": "markdown",
   "metadata": {
    "colab_type": "text",
    "graffitiCellId": "id_6zayd78",
    "id": "-EA98Va2Ca-Q"
   },
   "source": [
    "Congratulations, the system appears to be stable now! Also note that the optimal solution respects your choosen constraints with respect to the control inputs. \n",
    "\n",
    "You have now implemented your first MPC scheme!"
   ]
  },
  {
   "cell_type": "markdown",
   "metadata": {
    "graffitiCellId": "id_kbsrmf0"
   },
   "source": [
    "## Next steps ...\n",
    "\n",
    "This week we have implemented a very simple MPC scheme that has a couple of shortcomings in view of your own projects. Most notably, we have worked with a discrete-time system whereas many of the presented projects will require you to tackle continuous time systems. We will thus **study discretization schemes next week** to approach the continuous-time case. Most importantly, we will present **orthogonal collocation on finite elements**."
   ]
  }
 ],
 "metadata": {
  "colab": {
   "collapsed_sections": [],
   "name": "MPC_SS19_CasADi_exercise.ipynb",
   "provenance": [
    {
     "file_id": "153DDJaUNCaTvB8CXGm3tmfsQU_v-HYbe",
     "timestamp": 1556527924079
    },
    {
     "file_id": "1tpHK2rVOEyfpGWfHEr05SdgaDNhoLnLr",
     "timestamp": 1556454778896
    },
    {
     "file_id": "1N3yvBCAn6bHwKmgZWqCTLB_hpQIiBYip",
     "timestamp": 1525847821530
    }
   ],
   "toc_visible": true,
   "version": "0.3.2"
  },
  "graffiti": {
   "firstAuthorId": "dev",
   "id": "id_i1hvk72",
   "language": "EN"
  },
  "kernelspec": {
   "display_name": "Python 3",
   "language": "python",
   "name": "python3"
  },
  "language_info": {
   "codemirror_mode": {
    "name": "ipython",
    "version": 3
   },
   "file_extension": ".py",
   "mimetype": "text/x-python",
   "name": "python",
   "nbconvert_exporter": "python",
   "pygments_lexer": "ipython3",
   "version": "3.7.6"
  }
 },
 "nbformat": 4,
 "nbformat_minor": 1
}
