{
 "cells": [
  {
   "cell_type": "markdown",
   "metadata": {
    "colab_type": "text",
    "graffitiCellId": "id_gyr7sdu",
    "id": "2d5xtA6Wa2B2"
   },
   "source": [
    "<table style=\"width:100%\"><tr>\n",
    "<td> \n",
    "    \n",
    "Technische Universität Berlin\\\n",
    "Electrical Engineering and Computer Science\\\n",
    "Internet of Things for Smart Buildings\\\n",
    "Prof. Dr. Sergio Lucia, Felix Fiedler, Benjamin Karg </td>\n",
    "<td>  <img src=\"logo_tu.png\" style=\"width: 20%;\" align=\"right\"/> </td>\n",
    "</tr>\n",
    "</table>\n",
    "\n",
    "***\n",
    "**MPC 20 - Exercise 04**\n",
    "***\n",
    "\n",
    "# <span class=\"graffiti-highlight graffiti-id_gyr7sdu-id_4e2zaz6\"><i></i>Please click here!</span>\n",
    "\n",
    "# Continuous-time NMPC with orthogonal collocation on finite elements\n",
    "\n",
    "In this exercise we will continue working with the Python library [CasADi](https://web.casadi.org/docs/)\n",
    "and use it to implement MPC for **a nonlinear continuous-time system**: \n",
    "\n",
    "$$\n",
    "\\dot x = f(x,u)\n",
    "$$\n",
    "\n",
    "Note that last week we dealt with the **linear discrete-time formulation**:\n",
    "\n",
    "$$\n",
    "x_{k+1} = Ax_k+Bu_k\n",
    "$$\n",
    "\n",
    "The main difficulty with the ODE is that we need numerical integration. The simplest approach in this regard is the well known Euler integration, where:\n",
    "\n",
    "$$\n",
    "x_{k+1} = x_k + \\Delta t f(x_k,u_k).\n",
    "$$\n",
    "\n",
    "In most cases, however, the integration error with this approach will prevent a successfull MPC implementation.\n",
    "Instead we apply **orthogonal collocation on finite elements**, which we formally introduce and implement in the following."
   ]
  },
  {
   "cell_type": "markdown",
   "metadata": {
    "graffitiCellId": "id_wbjf19m"
   },
   "source": [
    "But first we import the required Python packages:"
   ]
  },
  {
   "cell_type": "code",
   "execution_count": 715,
   "metadata": {
    "graffitiCellId": "id_xakzowi"
   },
   "outputs": [],
   "source": [
    "import numpy as np\n",
    "import matplotlib.pyplot as plt\n",
    "import matplotlib as mpl\n",
    "from casadi import *"
   ]
  },
  {
   "cell_type": "markdown",
   "metadata": {
    "graffitiCellId": "id_g3vt4n1"
   },
   "source": [
    "We also change some Matplotlib parameters to increase the font size. Here is some [information](https://matplotlib.org/3.2.1/tutorials/introductory/customizing.html) on how this works."
   ]
  },
  {
   "cell_type": "code",
   "execution_count": null,
   "metadata": {
    "graffitiCellId": "id_2d7va02"
   },
   "outputs": [],
   "source": [
    "mpl.rcParams['font.size'] = 16"
   ]
  },
  {
   "cell_type": "markdown",
   "metadata": {
    "graffitiCellId": "id_ph0wtd1"
   },
   "source": [
    "## <span class=\"graffiti-highlight graffiti-id_ph0wtd1-id_77slszz\"><i></i>Example system</span>\n",
    "For this exercise we consider a non-linear \"leaf spring\" system, which can be modelled as:\n",
    "\n",
    "$$\n",
    "m \\ddot{x} = -k_1 x - k_2 x^{3}+u\n",
    "$$\n",
    "\n",
    "Such a spring is used on car suspensions – the more it deflects, the stiffer it gets.\n",
    "\n",
    "We write this second order ODE as a coupled system of first oder ODE's as follows:\n",
    "\n",
    "\\begin{align}\n",
    "\\dot x_1 &= x_2\\\\\n",
    "\\dot x_2 &= -k_1 x_1 - k_2 x_1^{3}+u\n",
    "\\end{align}\n",
    "\n",
    "## <span class=\"graffiti-highlight graffiti-id_ph0wtd1-id_wdfijxo\"><i></i>Task 01: Define the system with CasADi</span>\n",
    "Here are some required parameters:"
   ]
  },
  {
   "cell_type": "code",
   "execution_count": 716,
   "metadata": {
    "graffitiCellId": "id_eq8fatd"
   },
   "outputs": [],
   "source": [
    "# Timestep\n",
    "dt = 0.2\n",
    "\n",
    "# Spring constants k_1 and k_2:\n",
    "k = np.array([-1, 0.5])\n",
    "\n",
    "# Dimensions of x and u:\n",
    "nx = 2\n",
    "nu = 1"
   ]
  },
  {
   "cell_type": "markdown",
   "metadata": {
    "graffitiCellId": "id_j9zp73f"
   },
   "source": [
    "- Introduce the symbolic variables ``x`` and ``u`` of appropriate dimension\n",
    "- Write the expression ``xdot``, the right hand side of the ODE as defined above\n",
    "- Create a CasADi function ``system`` which takes as input ``x``,``u`` and returns the evaluated expression ``xdot``"
   ]
  },
  {
   "cell_type": "code",
   "execution_count": null,
   "metadata": {
    "graffitiCellId": "id_e0r9hgj"
   },
   "outputs": [],
   "source": [
    "# Your code here!\n"
   ]
  },
  {
   "cell_type": "markdown",
   "metadata": {
    "graffitiCellId": "id_wxki9z8"
   },
   "source": [
    "<span class=\"graffiti-highlight graffiti-id_wxki9z8-id_w0qdmru\"><i></i><button>Show Solution</button></span>"
   ]
  },
  {
   "cell_type": "markdown",
   "metadata": {
    "graffitiCellId": "id_2q58fg9"
   },
   "source": [
    "In contrast to previous week, we now have a continuous-time ordinary differential equation. To obtain the time-series of the states we thus need to use numerical integration. \n",
    "\n",
    "We use the CasADi interface of the state-of-the-art IDAS integrator ([Sundials](https://computing.llnl.gov/projects/sundials/idas)).\n",
    "\n",
    "\n",
    "**Note that we cannot use this Integrator directly for MPC** (unless you want to implement single-shooting or multiple-shooting). \n",
    "We use the Integrator **only for simulating the system**."
   ]
  },
  {
   "cell_type": "code",
   "execution_count": null,
   "metadata": {
    "graffitiCellId": "id_u287tcf"
   },
   "outputs": [],
   "source": [
    "ode = {'x': x, 'ode': xdot, 'p': u}\n",
    "\n",
    "# By default the solver integrates from 0 to 1. We change the final time to dt.\n",
    "opts = {'tf': dt}\n",
    "\n",
    "# Create the solver object.\n",
    "ode_solver = integrator('F', 'idas', ode, opts)"
   ]
  },
  {
   "cell_type": "markdown",
   "metadata": {
    "graffitiCellId": "id_fddvt6x"
   },
   "source": [
    "The obtained ``ode_solver`` is a function that can be called with the initial state ``x0`` and the integration parameters ``p``. We use the parameters to pass the current input ``u``.\n",
    "\n",
    "Let's see how the uncontrolled system behaves. "
   ]
  },
  {
   "cell_type": "markdown",
   "metadata": {
    "graffitiCellId": "id_66c2l9o"
   },
   "source": [
    "## Task 02: Simulate the system\n",
    "In this task we ask you to simulate the **uncontrolled** system, to get a feeling for the system behavior. \n",
    "\n",
    "Below we define\n",
    "- ``N_sim`` - the total number of simulation steps\n",
    "- ``x_0`` - the inital state of the system\n",
    "- ``u_k`` - the control input at **all time instances** (uncontrolled system)\n",
    "\n",
    "we furthermore initiate a list ``res_x_sundials`` to store the result of the simulation."
   ]
  },
  {
   "cell_type": "code",
   "execution_count": null,
   "metadata": {
    "graffitiCellId": "id_ozcf5os"
   },
   "outputs": [],
   "source": [
    "# Define the total steps to simulate\n",
    "N_sim = 100\n",
    "# Define the initial condition\n",
    "x_0 = np.array([-2,1]).reshape(nx,1)\n",
    "# Define the input (for the moment consider u = 0)\n",
    "u_k = np.array([[0]])\n",
    "\n",
    "res_x_sundials = [x_0]"
   ]
  },
  {
   "cell_type": "markdown",
   "metadata": {
    "graffitiCellId": "id_oucopnw"
   },
   "source": [
    "**In  a loop:**\n",
    "- call the ``ode_solver`` passing the current initial state and control input.\n",
    "- extract the final state of the integration window from the returned dictionary\n",
    "- store the new state\n",
    "- update the initial state\n",
    "\n",
    "Finally, concatenate the list ``res_x_sundials`` to obtain a ``numpy.ndarray``."
   ]
  },
  {
   "cell_type": "code",
   "execution_count": null,
   "metadata": {
    "graffitiCellId": "id_05yj6ir"
   },
   "outputs": [],
   "source": [
    "# Your code here!"
   ]
  },
  {
   "cell_type": "markdown",
   "metadata": {
    "graffitiCellId": "id_cjntldr"
   },
   "source": [
    "<span class=\"graffiti-highlight graffiti-id_cjntldr-id_s3polyd\"><i></i><button>Show Solution</button></span>"
   ]
  },
  {
   "cell_type": "markdown",
   "metadata": {
    "graffitiCellId": "id_ojnvp41"
   },
   "source": [
    "We have prepared the following plot for you to investigate the state trajectories of the uncontrolled system. The system shows stable but undamped oscillations."
   ]
  },
  {
   "cell_type": "code",
   "execution_count": null,
   "metadata": {
    "graffitiCellId": "id_xwnvewz",
    "scrolled": false
   },
   "outputs": [],
   "source": [
    "fig, ax = plt.subplots(figsize=(10,6))\n",
    "\n",
    "# plot the states\n",
    "lines = ax.plot(res_x_sundials.T)\n",
    "\n",
    "\n",
    "# Set labels\n",
    "ax.set_ylabel('states')\n",
    "ax.set_xlabel('time')"
   ]
  },
  {
   "cell_type": "markdown",
   "metadata": {
    "graffitiCellId": "id_1qxsy6u"
   },
   "source": [
    "# <span class=\"graffiti-highlight graffiti-id_1qxsy6u-id_1mt4exi\"><i></i>Lagrange Polynomials</span>\n",
    "Fundamental for orthogonal collocation is the idea that the solution of the ODE:\n",
    "\n",
    "$$\n",
    "\\dot{x} = f(x), \\quad x(0)=x_0,\n",
    "$$\n",
    "\n",
    "which is $x(t)$, can be approximated accurately with a polynomial of order $K+1$:\n",
    "\n",
    "$$\n",
    "x^K_i(t) = \\alpha_0 + \\alpha_1 t + \\dots + \\alpha_{K}  t^K\n",
    "$$\n",
    "\n",
    "This approximation should be valid on small time-intervals $t\\in [t_i, t_{i+1}]$, which\n",
    "are the **finite elements** mentioned in the title.\n",
    "\n",
    "The interpolation is based on $j=0,\\dots,K$ interpolation points $(t_j, x_{i,j})$ in the interval $[t_i, t_{i+1}]$.\n",
    "We are using the **Lagrange interpolation polynomial**:\n",
    "\n",
    "\\begin{align}\n",
    "&x^K_i(t) = \\sum_{j=0}^K L_j(\\tau) x_{i,j}\\\\\n",
    "\\text{where:}\\quad\n",
    "&L_j(\\tau) = \\prod_{\n",
    "\\begin{array}{c}k=0\\\\ k \\neq j \\end{array}\n",
    "}^K \\frac{(\\tau-\\tau_k)}{(\\tau_j-\\tau_k)}, \\quad &\\tau = \\frac{t-t_i}{\\Delta t_i}, \\quad \\Delta t_i=t_{i+1}-t_i.\n",
    "\\end{align}\n",
    "\n",
    "We call $L_j(\\tau)$ the Lagrangrian basis polynomial with the dimensionless time $\\tau \\in [0,1]$. Note that the basis polynomial $L_j(\\tau)$ is constructed to be $L_j(\\tau_j)=1$ and $L_j(\\tau_i)=0$ for all other interpolation points $i\\neq j$.\n",
    "\n",
    "In the following **we will allways choose** $\\tau_0=0,\\ \\tau_j<\\tau_{j+1}\\leq 1,\\ j=0,\\dots,K-1$."
   ]
  },
  {
   "cell_type": "markdown",
   "metadata": {
    "graffitiCellId": "id_jals6xc"
   },
   "source": [
    "## <span class=\"graffiti-highlight graffiti-id_jals6xc-id_79wsab4\"><i></i>Task 03: Simple Interpolation</span>\n",
    "Before we use Lagrange polynomials to solve the ODE (with or without MPC), let's validate that they actually work as advertised ...\n",
    "\n",
    "1. Implement the function ``L(tau_col, tau, j)`` which returns $L_j(\\tau)$ for a given list of collocation points."
   ]
  },
  {
   "cell_type": "code",
   "execution_count": 265,
   "metadata": {
    "graffitiCellId": "id_qlmcigd"
   },
   "outputs": [],
   "source": [
    "# Your code here!"
   ]
  },
  {
   "cell_type": "markdown",
   "metadata": {
    "graffitiCellId": "id_1ljwiv8"
   },
   "source": [
    "<span class=\"graffiti-highlight graffiti-id_1ljwiv8-id_5tchtgm\"><i></i><button>Show Solution</button></span>"
   ]
  },
  {
   "cell_type": "markdown",
   "metadata": {
    "graffitiCellId": "id_2kcs90e"
   },
   "source": [
    "2. Implement ``LgrInter(tau_col, tau, xk)``, which evaluates $x^K_i(t)$."
   ]
  },
  {
   "cell_type": "code",
   "execution_count": null,
   "metadata": {
    "graffitiCellId": "id_cdosh8g"
   },
   "outputs": [],
   "source": [
    "# Your code here!"
   ]
  },
  {
   "cell_type": "markdown",
   "metadata": {
    "graffitiCellId": "id_k56jdhr"
   },
   "source": [
    "<span class=\"graffiti-highlight graffiti-id_k56jdhr-id_hn3cvra\"><i></i><button>Show Solution</button></span>"
   ]
  },
  {
   "cell_type": "markdown",
   "metadata": {
    "graffitiCellId": "id_ah7yu1x"
   },
   "source": [
    "We call the function ``LgrInter`` which returns the evaluated Lagrange polynomial."
   ]
  },
  {
   "cell_type": "code",
   "execution_count": null,
   "metadata": {
    "graffitiCellId": "id_ne6m0pr"
   },
   "outputs": [],
   "source": [
    "# collocation degree.\n",
    "K = 3\n",
    "\n",
    "# Fix the random seed (results are always the same)\n",
    "np.random.seed(1234)\n",
    "\n",
    "# Get some linearly spaced collocation points between 0 and 1.\n",
    "tau_col = np.linspace(0,1, num=K)\n",
    "# Get some xk values for the collocation points.\n",
    "xk = np.random.randn(K,2)\n",
    "\n",
    "# Get the evaluated interpolation polynomial.\n",
    "tau = np.linspace(0,1,100).reshape(-1,1)\n",
    "x_interpolation = LgrInter(tau_col, tau, xk)"
   ]
  },
  {
   "cell_type": "markdown",
   "metadata": {
    "graffitiCellId": "id_8v64qcb"
   },
   "source": [
    "and plot the results:"
   ]
  },
  {
   "cell_type": "code",
   "execution_count": null,
   "metadata": {
    "graffitiCellId": "id_3poir98",
    "scrolled": false
   },
   "outputs": [],
   "source": [
    "fig, ax= plt.subplots(figsize=(8,6))\n",
    "\n",
    "ax.plot(tau, x_interpolation)\n",
    "ax.set_prop_cycle(None)\n",
    "ax.plot(tau_col, xk,'o')"
   ]
  },
  {
   "cell_type": "markdown",
   "metadata": {
    "graffitiCellId": "id_pblgkj2"
   },
   "source": [
    "The Lagrange polynomials perfectly fit the supplied data points."
   ]
  },
  {
   "cell_type": "markdown",
   "metadata": {
    "graffitiCellId": "id_f7bh7gs"
   },
   "source": [
    "## <span class=\"graffiti-highlight graffiti-id_f7bh7gs-id_pirw6vy\"><i></i>Solving the ODE with orthogonal collocation</span>\n",
    "Based on Lagrange polynomials we will now introduce orthogonal collaction and use it to solve an ODE.\n",
    "\n",
    "<img src=\"./figures/orthogonal_collocation.svg\" style=\"width: 70%;\" align=\"center\"/>\n",
    "\n",
    "So far we have seen how to approximate an ODE solution\n",
    "with Lagrange polynomials **given a set of values from the solution**.\n",
    "This may seem confusing because we are looking for these values in the first place.\n",
    "However, it still helps us because we can now state conditions based on this polynomial representation\n",
    "that **must hold for the desired solution**:\n",
    "\n",
    "$$\n",
    "\\left.\\frac{d x^K_i}{dt}\\right|_{t_{i,k}} = f(x_{i,k}), \\quad k=1,\\dots,K.\n",
    "$$\n",
    "\n",
    "\n",
    "This means that the time derivatives from our polynomial approximation evaluated\n",
    "**at the collocation points** must be equal to the original ODE at these same points.\n",
    "**Note** that we excluded the collocation point $\\tau_0=0$, which is treated seperately.\n",
    "\n",
    "Because we assumed a polynomial structure of $x^K_i(t)$ the time derivative can be conveniently expressed as:\n",
    "\n",
    "$$\n",
    "\\left.\\frac{d x^K_i}{dt}\\right|_{t_{i,k}} = \\sum_{j=0}^K \\frac{x_{i,j}}{\\Delta t}\n",
    "    \\underbrace{\\left.\\frac{d L_j}{d \\tau}\\right|_{\\tau_k}}_{a_{j,k}},\n",
    "$$\n",
    "\n",
    "for which we substituted $t$ with $\\tau$ (dimensionless time between 0 and 1).\n",
    "It is important to notice that **for fixed collocation points** the terms $a_{j,k}$\n",
    "**are constants that can be pre-computed.**\n",
    "The choice of these points is significant and will be discussed later in this notebook.\n",
    "\n",
    "### Collocation constraints\n",
    "\n",
    "\n",
    "The solution of the ODE, i.e. the values of $x_{i,j}$ are now obtained by solving\n",
    "the set of equations:\n",
    "\n",
    "$$\n",
    "\\sum_{j=0}^K a_{j,k} \\frac{x_{i,j}}{\\Delta t} = f(x_{i,k}), \\quad k=1,\\dots,K.\n",
    "$$\n",
    "\n",
    "\n",
    "\n",
    "### Collocation with orthogonal polynomials\n",
    "\n",
    "Above we used Lagrange polynomials to interpolate on arbitrary **collocation** points. \n",
    "To solve an ODE, it shows that certain **collocation** points are better than others.\n",
    "\n",
    "Favorable properties are obtained when choosing the collocation points as the roots of a $K$-th degree **Gauss-Jacobi** polynomial:\n",
    "\n",
    "$$\n",
    "\\int_0^1 (1-\\tau)^{\\alpha} \\tau^{\\beta} P_i(\\tau) P_{j}(\\tau) = 0, \\quad i=0,\\dots, K-1,\\ j=1,\\dots, K\n",
    "$$\n",
    "\n",
    "which is a general class of **orthogonal polynomials**. Specific cases of this polynomial are obtained for $\\alpha=0,\\ \\beta=0$ (**Legrende polynomial**) and for $\\alpha=1,\\ \\beta=0$ (**Radau**) polynomial. \n",
    "\n",
    "We don't want to discuss here, why these collocation points are favorable or how to compute them. In practize we can just obtain the values from tables and fortunately they are also available from CasADi:"
   ]
  },
  {
   "cell_type": "code",
   "execution_count": null,
   "metadata": {
    "graffitiCellId": "id_xgnzhpy",
    "scrolled": true
   },
   "outputs": [],
   "source": [
    "print(collocation_points(K,'radau'))\n",
    "print(collocation_points(K,'legendre'))"
   ]
  },
  {
   "cell_type": "markdown",
   "metadata": {
    "graffitiCellId": "id_f50snwf"
   },
   "source": [
    "Note that these collocation points do not include $\\tau_0=0$. For a given collocation degree $K$, we append:"
   ]
  },
  {
   "cell_type": "code",
   "execution_count": 718,
   "metadata": {
    "graffitiCellId": "id_qc6nrzi"
   },
   "outputs": [],
   "source": [
    "# collocation degree\n",
    "K = 2 \n",
    "\n",
    "# collocation points (excluding 0)\n",
    "tau_col = collocation_points(K,'radau')\n",
    "\n",
    "# collocation points (including 0)\n",
    "tau_col = [0]+tau_col\n",
    "\n",
    "print(tau_col)"
   ]
  },
  {
   "cell_type": "markdown",
   "metadata": {
    "graffitiCellId": "id_h1x2gtx"
   },
   "source": [
    "We now want to implement the collocation constraints:\n",
    "\n",
    "$$\n",
    "\\sum_{j=0}^K a_{j,k} \\frac{x_{i,j}}{\\Delta t} = f(x_{i,k}), \\quad k=1,\\dots,K.\n",
    "$$\n",
    "\n",
    "For this we compute the coefficients \n",
    "\n",
    "$$a_{j,k} = \\left.\\frac{d L_j}{d \\tau}\\right|_{\\tau_k},$$ \n",
    "\n",
    "which we store in the matrix $A$, where:\n",
    "\n",
    "$$\n",
    "A_{i,j} = a_{i,j}\n",
    "$$"
   ]
  },
  {
   "cell_type": "markdown",
   "metadata": {
    "graffitiCellId": "id_x69hclv"
   },
   "source": [
    "## <span class=\"graffiti-highlight graffiti-id_x69hclv-id_k76xmtu\"><i></i>Task 04:  Calculate orthogonal collocation coefficients</span>\n",
    "Calculate the orthogonal collocation coefficients $a_{j,k}$ and store them in a matrix $A$.\n",
    "You can use CasADi and should introduce the symbolic variable $\\tau$ and use your previously written function ``L(tau_col, tau, j)``. "
   ]
  },
  {
   "cell_type": "code",
   "execution_count": null,
   "metadata": {
    "graffitiCellId": "id_85m2e5v"
   },
   "outputs": [],
   "source": [
    "# Your code here!"
   ]
  },
  {
   "cell_type": "markdown",
   "metadata": {
    "graffitiCellId": "id_vsv38zw"
   },
   "source": [
    "<span class=\"graffiti-highlight graffiti-id_vsv38zw-id_jvmj1oj\"><i></i><button>Show Solution</button></span>"
   ]
  },
  {
   "cell_type": "markdown",
   "metadata": {
    "graffitiCellId": "id_3c0pyoi"
   },
   "source": [
    "For $K=2$ and Radau collocation points you should obtain:\n",
    "```python\n",
    "A\n",
    ">> array([[-4. , -2. ,  2. ],\n",
    "          [ 4.5,  1.5, -4.5],\n",
    "          [-0.5,  0.5,  2.5]])\n",
    "```"
   ]
  },
  {
   "cell_type": "markdown",
   "metadata": {
    "graffitiCellId": "id_s9565eb"
   },
   "source": [
    "With our choice of collocation points $\\tau_0=0,\\ \\tau_j<\\tau_{j+1}\\leq 1,\\ j=0,\\dots,K-1$, we have included the initial state in the finite element **but not the final state**. \n",
    "We need the final state within a given finite element because this is the point from which the next finite element should start.\n",
    "Given the collocation points and their respective values, we thus want to evaluate the interpolation polynomial:\n",
    "\n",
    "$$\n",
    "x_i^f = x^K_i(t_{i+1}) = \\sum_{j=0}^K L_j(\\tau=1) x_{i,j}\n",
    "$$\n",
    "\n",
    "Again, **we don't know $x_{i,j}$ yet**, but we can determine $d_j = L_j(\\tau=1),\\ j=0,\\dots, K$.\n",
    "**Note that $d_j$ is a constant for fixed collocation points.**\n",
    "\n",
    "We store the values of $d_j$ in the vector $D$.\n",
    "\n",
    "## <span class=\"graffiti-highlight graffiti-id_s9565eb-id_uvzmoif\"><i></i>Task 05: Calculate continuity coefficients</span>\n",
    "Caculate the coeffcient $d_j$ and store them in the vector $D$. Use CasAdi, the symbolic variable $\\tau$ and your function ``L(tau_col, tau, j)``."
   ]
  },
  {
   "cell_type": "code",
   "execution_count": null,
   "metadata": {
    "graffitiCellId": "id_zx9jkm8"
   },
   "outputs": [],
   "source": [
    "# Your code here!"
   ]
  },
  {
   "cell_type": "markdown",
   "metadata": {
    "graffitiCellId": "id_ryn8j53"
   },
   "source": [
    "<span class=\"graffiti-highlight graffiti-id_ryn8j53-id_uhgf2ko\"><i></i><button>Show Solution</button></span>"
   ]
  },
  {
   "cell_type": "markdown",
   "metadata": {
    "graffitiCellId": "id_2wfw2g8"
   },
   "source": [
    "For $K=2$ and Radau collocation points you should obtain:\n",
    "```python\n",
    "D\n",
    ">> array([[ 0.],\n",
    "          [-0.],\n",
    "          [ 1.]])\n",
    "```\n",
    "This shouldn't be surprising, as the Radau colloction points include $\\tau_{K}=1$."
   ]
  },
  {
   "cell_type": "markdown",
   "metadata": {
    "graffitiCellId": "id_1nacdfa"
   },
   "source": [
    "# <span class=\"graffiti-highlight graffiti-id_1nacdfa-id_epkdvkh\"><i></i>Integration with orthogonal collocation</span>\n",
    "\n",
    "Before we use orthogonal collocation for our MPC implementation, we investigate the method by **solving the previously introduced ODE and then compare it to the solution obtained with Sundials**. \n",
    "\n",
    "This is **just an illustrative example and not how we use orthogonal collocation in practize**. \n",
    "\n",
    "To integrate an ODE with orthogonal collocation from $(t_i, x_{i,\\text{init}})$ to $(t_{i+1}, x_i^f)$\n",
    "we introduce the following optimization problem:\n",
    "\n",
    "\\begin{align}\n",
    "&\\min_{x_{i,0},\\dots, x_{i,K}} \\quad &0\\\\\n",
    "&\\text{s.t.} &\\sum_{j=0}^K a_{j,k} x_{i,j} - \\Delta t f(x_{i,k})=0, \\quad k=1,\\dots,K\\\\\n",
    "& &x_{i,0} = x_{i,\\text{init}}\n",
    "\\end{align}\n",
    "\n",
    "where $x_i^f$ is obtained from \n",
    "\n",
    "$$\n",
    "x_i^f = \\sum_{j=0}^K d_j x_{i,j}.\n",
    "$$\n",
    "\n",
    "Note that for this simple integration application **we only consider a single finite element**. \n",
    "Continuity is enforced by repeatedly solving the optimization problem with updated initial state $(t_i, x_{i,\\text{init}})$.\n",
    "\n",
    "## Task 06: Create an optimization problem to solve the collocation problem\n",
    "Implement the described optimization problem with CasADi. \n",
    "\n",
    "\n",
    "1. Introduce symbolic variables\n",
    "    - ``X`` - the states at all collocation points\n",
    "    - ``x_init`` - the initial state\n",
    "    - ``u`` - the constant control input over the finite element\n",
    "2. Use ``x_init`` as an equality constraint for the first state $x_{i,0}$\n",
    "3. Append collocation constraints\n",
    "4. Concatenate constraint vector ``g`` (make vector from list)\n",
    "5. Create an CasADi ``nlpsol`` object that can be used to solve the problem."
   ]
  },
  {
   "cell_type": "code",
   "execution_count": null,
   "metadata": {
    "graffitiCellId": "id_alx78fc"
   },
   "outputs": [],
   "source": [
    "# Initialize empty list of constraints\n",
    "g = []\n",
    "\n",
    "# 01 - Your code here!\n",
    "\n",
    "# 01\n",
    "\n",
    "\n",
    "# 02 - Your code here!\n",
    "\n",
    "# 02\n",
    "\n",
    "\n",
    "# 03 - Your code here!\n",
    "\n",
    "# 03\n",
    "\n",
    "\n",
    "# 04 - Your code here!    \n",
    "\n",
    "# 04\n",
    "\n",
    "\n",
    "# 05 - Your code here!\n",
    "\n",
    "# 05"
   ]
  },
  {
   "cell_type": "markdown",
   "metadata": {
    "graffitiCellId": "id_v9bqjwx"
   },
   "source": [
    "<span class=\"graffiti-highlight graffiti-id_v9bqjwx-id_2o3ipwi\"><i></i><button>Show Solution</button></span>"
   ]
  },
  {
   "cell_type": "markdown",
   "metadata": {
    "graffitiCellId": "id_l35l3my"
   },
   "source": [
    "## Task 07: Solve the ODE with orthogonal collocation\n",
    "We define the initial state and control input as above, when we first investigated the system response."
   ]
  },
  {
   "cell_type": "code",
   "execution_count": null,
   "metadata": {
    "graffitiCellId": "id_k725oi4",
    "scrolled": true
   },
   "outputs": [],
   "source": [
    "# Define the initial condition\n",
    "x_0 = np.array([-2,1]).reshape(2,1)\n",
    "# Define the input (for the moment consider u = 0)\n",
    "u_k = np.array([[0]])\n",
    "\n",
    "# Initialize result list\n",
    "res_x_oc = [x_0]"
   ]
  },
  {
   "cell_type": "markdown",
   "metadata": {
    "graffitiCellId": "id_i9l43u1"
   },
   "source": [
    "**In a loop:**\n",
    "- call the previously created optimizer ``nlpsol``with the current initial state and control input. The upper and lower bound for ``g`` are zero (equality constraints).\n",
    "- Extract the solution ``X``.\n",
    "- Obtain $x_i^f$ (the state at $\\tau = 1 $ with the previously created $d_j = L_j(\\tau=1)\\ j=0,\\dots, K$.\n",
    "- Store the new final state $x_i^f$.\n",
    "- Update the initial state.\n",
    "\n",
    "Afterwards concatenate the ``res_x_oc`` such that is a ``numpy.ndarray`` with:\n",
    "```python\n",
    "res_x_oc.shape\n",
    ">> (nx, N_sim)\n",
    "```"
   ]
  },
  {
   "cell_type": "code",
   "execution_count": null,
   "metadata": {
    "graffitiCellId": "id_gpazy7k"
   },
   "outputs": [],
   "source": [
    "# Your code here!"
   ]
  },
  {
   "cell_type": "markdown",
   "metadata": {
    "graffitiCellId": "id_tbdy9zq"
   },
   "source": [
    "<span class=\"graffiti-highlight graffiti-id_tbdy9zq-id_1osdafo\"><i></i><button>Show Solution</button></span>"
   ]
  },
  {
   "cell_type": "markdown",
   "metadata": {
    "graffitiCellId": "id_q4gns29"
   },
   "source": [
    "We have prepared this plot to compare the orthogonal collocation result with the Sundials results from above."
   ]
  },
  {
   "cell_type": "code",
   "execution_count": null,
   "metadata": {
    "graffitiCellId": "id_7rtpkfj",
    "scrolled": false
   },
   "outputs": [],
   "source": [
    "fig, ax = plt.subplots(figsize=(10,6))\n",
    "\n",
    "# plot the states\n",
    "ax.plot(res_x_sundials.T, alpha=0.5, linewidth=6)\n",
    "ax.set_prop_cycle(None)\n",
    "ax.plot(res_x_oc.T)\n",
    "\n",
    "\n",
    "# Set labels\n",
    "ax.set_ylabel('states')\n",
    "ax.set_xlabel('time')\n",
    "ax.set_title('Orthogonal collocation vs. Sundials')"
   ]
  },
  {
   "cell_type": "markdown",
   "metadata": {
    "graffitiCellId": "id_k8bf2l7"
   },
   "source": [
    "Orthogonal collocation yields very good results but we can still see a minor **integration error**."
   ]
  },
  {
   "cell_type": "markdown",
   "metadata": {
    "graffitiCellId": "id_ndfap92"
   },
   "source": [
    "### Comparison with Euler integration\n",
    "Just for fun (and as a daunting example) we also provide you the code for the very simple explicit Euler integration:\n",
    "\n",
    "$$\n",
    "x_{k+1} = x_k + \\Delta t f(x_k,u_k).\n",
    "$$\n",
    "\n",
    "Note that we break the loop when the values exceed a certain threshold ..."
   ]
  },
  {
   "cell_type": "code",
   "execution_count": null,
   "metadata": {
    "graffitiCellId": "id_94w0e73"
   },
   "outputs": [],
   "source": [
    "# Define the initial condition\n",
    "x_0 = np.array([-2,1]).reshape(2,1)\n",
    "# Define the input (for the moment consider u = 0)\n",
    "u_k = np.array([[0]])\n",
    "\n",
    "res_x_euler = [x_0]\n",
    "\n",
    "for i in range(N_sim):\n",
    "    x_next = x_0 + dt*system(x_0, u_k)\n",
    "    res_x_euler.append(x_next)\n",
    "    x_0 = x_next\n",
    "    \n",
    "    if np.any(np.abs(x_0.full())>1e3):\n",
    "        break\n",
    "\n",
    "# Make an array from the list of arrays:\n",
    "res_x_euler = np.concatenate(res_x_euler,axis=1)"
   ]
  },
  {
   "cell_type": "markdown",
   "metadata": {
    "graffitiCellId": "id_ne7x9ob"
   },
   "source": [
    "Here comes the corresponding plot."
   ]
  },
  {
   "cell_type": "code",
   "execution_count": null,
   "metadata": {
    "graffitiCellId": "id_jxphbvy"
   },
   "outputs": [],
   "source": [
    "fig, ax = plt.subplots(figsize=(10,6))\n",
    "\n",
    "# plot the states\n",
    "ax.plot(res_x_sundials.T, alpha=0.5, linewidth=6)\n",
    "ax.set_prop_cycle(None)\n",
    "ax.plot(res_x_euler.T)\n",
    "\n",
    "ax.set_ylim(-2.5,2.5)\n",
    "\n",
    "\n",
    "# Set labels\n",
    "ax.set_ylabel('states')\n",
    "ax.set_xlabel('time')\n",
    "\n",
    "ax.set_title('Euler Integration vs. Sundials')"
   ]
  },
  {
   "cell_type": "markdown",
   "metadata": {
    "graffitiCellId": "id_4ctry53"
   },
   "source": [
    "Needless to say: **Euler integration is a bad idea** in this case (or in most other cases for this matter) ...\n",
    "\n",
    "We hope you get the hint and don't use Euler integration in your projects :D "
   ]
  },
  {
   "cell_type": "markdown",
   "metadata": {
    "graffitiCellId": "id_9ski5e9"
   },
   "source": [
    "# <span class=\"graffiti-highlight graffiti-id_9ski5e9-id_ylvhwcc\"><i></i>MPC with orthogonal collocation</span>\n",
    "\n",
    "We can now very easily extend our previous MPC implementation (for the discrete-time case) to the non-linear continuous example. \n",
    "\n",
    "**What is different?**\n",
    "- the optimization problem includes the collocation constraints.\n",
    "- For each time-interval (finite element) we have a constant control input but $K+1$ instances of the states at the different collocation points.\n",
    "- Bounds for the states can be set for all collocation points or just for the state at $\\tau = 0$.\n",
    "- the cost function can be evaluated for all collocation points or just for the state at $\\tau = 0$.\n",
    "\n",
    "Here, we decide to evaluate the cost function only at $\\tau = 0$ and set upper and lower bounds for the states for all collocation points. \n",
    "\n",
    "With these differences in mind, we follow the scheme from last week and start by defining the cost function.\n",
    "\n",
    "The objective of the MPC controller is again to regulate the system. To achieve this goal we use the same quadratic cost function, where for every time step $i$ of the horizon the following expression should be minimized:\n",
    "\n",
    "$$l(x_{i,0},u_i) = x_{i,0}^T Q x_{i,0} + u_i^T R u_i $$\n",
    "\n",
    "where Q and R are positive definite diagonal matrices. \n",
    "For the terminal cost we have a slightly altered expression:\n",
    "\n",
    "$$ m(x_{N+1,0}) = x_{N+1,0}^T P x_{N+1,0}, $$ \n",
    "\n",
    "For simplicity we assume $P=Q$."
   ]
  },
  {
   "cell_type": "code",
   "execution_count": null,
   "metadata": {
    "colab": {
     "base_uri": "https://localhost:8080/",
     "height": 85
    },
    "colab_type": "code",
    "executionInfo": {
     "elapsed": 10358,
     "status": "ok",
     "timestamp": 1556542026287,
     "user": {
      "displayName": "Felix Fiedler",
      "photoUrl": "https://lh3.googleusercontent.com/-urC6nBibBlU/AAAAAAAAAAI/AAAAAAAAAW4/Z1EWu6T_E74/s64/photo.jpg",
      "userId": "02335246821224636363"
     },
     "user_tz": -120
    },
    "graffitiCellId": "id_ij76zs2",
    "id": "jAkc9axsr9ER",
    "outputId": "fd0e2a27-ea2a-4633-9aa3-d8df4614722d"
   },
   "outputs": [],
   "source": [
    "Q = 20\n",
    "Q = Q*np.diag(np.ones(nx))\n",
    "print(Q)"
   ]
  },
  {
   "cell_type": "code",
   "execution_count": null,
   "metadata": {
    "cellView": "both",
    "colab": {
     "base_uri": "https://localhost:8080/",
     "height": 34
    },
    "colab_type": "code",
    "executionInfo": {
     "elapsed": 10566,
     "status": "ok",
     "timestamp": 1556542026506,
     "user": {
      "displayName": "Felix Fiedler",
      "photoUrl": "https://lh3.googleusercontent.com/-urC6nBibBlU/AAAAAAAAAAI/AAAAAAAAAW4/Z1EWu6T_E74/s64/photo.jpg",
      "userId": "02335246821224636363"
     },
     "user_tz": -120
    },
    "graffitiCellId": "id_9nkd3eh",
    "id": "Isu83TFpqrTt",
    "outputId": "349d7706-00d2-4aca-e748-3446e43440ac",
    "scrolled": false
   },
   "outputs": [],
   "source": [
    "R = 10\n",
    "R = np.diag(R*np.ones(nu))\n",
    "print(R)"
   ]
  },
  {
   "cell_type": "markdown",
   "metadata": {
    "graffitiCellId": "id_01k6vue"
   },
   "source": [
    "with these tuning matrices we create the stage and terminal cost function. Remember that the symbolic variables ``x`` and ``u`` were already introduced in the context of numerical integration with Sundials."
   ]
  },
  {
   "cell_type": "code",
   "execution_count": null,
   "metadata": {
    "graffitiCellId": "id_zb6o25y"
   },
   "outputs": [],
   "source": [
    "# stage cost\n",
    "stage_cost = x.T@Q@x+ u.T@R@u\n",
    "stage_cost_fcn = Function('stage_cost',[x,u],[stage_cost])\n",
    "\n",
    "# terminal cost\n",
    "terminal_cost = x.T@Q@x\n",
    "terminal_cost_fcn = Function('terminal_cost',[x],[terminal_cost])"
   ]
  },
  {
   "cell_type": "markdown",
   "metadata": {
    "graffitiCellId": "id_tu5ujr9"
   },
   "source": [
    "Another important parameter to choose is the prediction horizon. This determines \"how far we look into the future\". Note that an optimal solution does not guarante stability. **Feel free to test other values for the horizon**."
   ]
  },
  {
   "cell_type": "code",
   "execution_count": 717,
   "metadata": {
    "colab": {},
    "colab_type": "code",
    "graffitiCellId": "id_u98n11k",
    "id": "R1AbPmg6rAnG"
   },
   "outputs": [],
   "source": [
    "N = 20"
   ]
  },
  {
   "cell_type": "markdown",
   "metadata": {
    "graffitiCellId": "id_id6t981"
   },
   "source": [
    "### Upper and lower bounds for stage variables:\n",
    "These are suggested values that can be changed later."
   ]
  },
  {
   "cell_type": "code",
   "execution_count": 775,
   "metadata": {
    "graffitiCellId": "id_689iy4c"
   },
   "outputs": [],
   "source": [
    "# state constraints\n",
    "lb_x = -4*np.ones((nx,1))\n",
    "ub_x = 4*np.ones((nx,1))\n",
    "# input constraints\n",
    "lb_u = -0.4*np.ones((nu,1))\n",
    "ub_u = 0.4*np.ones((nu,1))"
   ]
  },
  {
   "cell_type": "markdown",
   "metadata": {
    "colab_type": "text",
    "graffitiCellId": "id_0h20o1t",
    "id": "yxIgL958xgmE"
   },
   "source": [
    "## <span class=\"graffiti-highlight graffiti-id_0h20o1t-id_ibex9sa\"><i></i>Define optimization variables</span>\n",
    "\n",
    "The optimization variables are now taking a rather complicated form. We have $n_x$ states for $N$ finite elements and $K+1$ collocation points in each interval. Since CasADi requires **a single vector** we must also concatenate the $n_u \\times N$ **inputs** with the $n_x \\times N \\times K+1$ **states**. \n",
    "\n",
    "**Indexing this stacked vector to obtain the desired elements is prone to error and cumbersome.**\n",
    "\n",
    "To make our life easier, we will profit from another CasADi feature: **the structured symbolic variable**.  \n",
    "\n",
    "First we must import the feature with:"
   ]
  },
  {
   "cell_type": "code",
   "execution_count": null,
   "metadata": {
    "graffitiCellId": "id_e6tlluh"
   },
   "outputs": [],
   "source": [
    "from casadi.tools import *"
   ]
  },
  {
   "cell_type": "markdown",
   "metadata": {
    "graffitiCellId": "id_mmfak28"
   },
   "source": [
    "We can then define:"
   ]
  },
  {
   "cell_type": "code",
   "execution_count": null,
   "metadata": {
    "colab": {},
    "colab_type": "code",
    "graffitiCellId": "id_ibq6dp1",
    "id": "szd-ueGRxlFC"
   },
   "outputs": [],
   "source": [
    "opt_x = struct_symSX([\n",
    "    entry('x', shape=nx, repeat=[N+1, K+1]),\n",
    "    entry('u', shape=nu, repeat=[N])\n",
    "])"
   ]
  },
  {
   "cell_type": "markdown",
   "metadata": {
    "graffitiCellId": "id_hi5wwsp"
   },
   "source": [
    "This \"optimization variable x\" **contains the states and inputs for all time-steps and all collocation points**.\n",
    "Let's quickly investigate it:"
   ]
  },
  {
   "cell_type": "code",
   "execution_count": null,
   "metadata": {
    "graffitiCellId": "id_2ibwzyh"
   },
   "outputs": [],
   "source": [
    "print(opt_x)"
   ]
  },
  {
   "cell_type": "markdown",
   "metadata": {
    "graffitiCellId": "id_vpw3ckn"
   },
   "source": [
    "We already get a lot of information. If we use:"
   ]
  },
  {
   "cell_type": "code",
   "execution_count": null,
   "metadata": {
    "graffitiCellId": "id_hgo1rq3",
    "scrolled": true
   },
   "outputs": [],
   "source": [
    "print(vertcat(opt_x))"
   ]
  },
  {
   "cell_type": "markdown",
   "metadata": {
    "graffitiCellId": "id_vyo30hq"
   },
   "source": [
    "and"
   ]
  },
  {
   "cell_type": "code",
   "execution_count": null,
   "metadata": {
    "graffitiCellId": "id_565vsg7"
   },
   "outputs": [],
   "source": [
    "print(vertcat(opt_x).shape)"
   ]
  },
  {
   "cell_type": "markdown",
   "metadata": {
    "graffitiCellId": "id_ndzgogi"
   },
   "source": [
    "we see that it is in fact just the full vector of optimization variables. What makes this so useful is that we can use **power indexing**, e.g.:"
   ]
  },
  {
   "cell_type": "code",
   "execution_count": null,
   "metadata": {
    "graffitiCellId": "id_hkcxiew",
    "scrolled": true
   },
   "outputs": [],
   "source": [
    "opt_x['x', 10, 2]"
   ]
  },
  {
   "cell_type": "markdown",
   "metadata": {
    "graffitiCellId": "id_tqni56r"
   },
   "source": [
    "which gives the states $x_{10,2}$. For more information on CasADi structures, please read this [guide](http://casadi.sourceforge.net/v2.0.0/tutorials/tools/structure.pdf)."
   ]
  },
  {
   "cell_type": "markdown",
   "metadata": {
    "graffitiCellId": "id_w6xqyqk"
   },
   "source": [
    "Another amazing feature of the CasADi structure is that we can call the structure ``opt_x()`` with numerical values, which will then **populate an identical numerical structure with these values**. You will see later that this is very convenient for extracting the solution of the MPC solver. \n",
    "\n",
    "For now we use it to define the bounds of ``x`` and ``u``. We initialize the bounds with:"
   ]
  },
  {
   "cell_type": "code",
   "execution_count": null,
   "metadata": {
    "graffitiCellId": "id_1nmk7k0"
   },
   "outputs": [],
   "source": [
    "lb_opt_x = opt_x(0)\n",
    "ub_opt_x = opt_x(0)"
   ]
  },
  {
   "cell_type": "markdown",
   "metadata": {
    "graffitiCellId": "id_gi19j8x"
   },
   "source": [
    "Which can now be indexed as the symbolic structure above. Note that we set all values to zero."
   ]
  },
  {
   "cell_type": "code",
   "execution_count": null,
   "metadata": {
    "graffitiCellId": "id_ktsr4a6"
   },
   "outputs": [],
   "source": [
    "lb_opt_x['x', 10, 2]"
   ]
  },
  {
   "cell_type": "markdown",
   "metadata": {
    "graffitiCellId": "id_22mr49x"
   },
   "source": [
    "To set the desired values to our configured bounds we simply have to state:"
   ]
  },
  {
   "cell_type": "code",
   "execution_count": null,
   "metadata": {
    "graffitiCellId": "id_8qf4xjd"
   },
   "outputs": [],
   "source": [
    "lb_opt_x['x'] = lb_x\n",
    "ub_opt_x['x'] = ub_x\n",
    "\n",
    "lb_opt_x['u'] = lb_u\n",
    "ub_opt_x['u'] = ub_u"
   ]
  },
  {
   "cell_type": "markdown",
   "metadata": {
    "graffitiCellId": "id_3owaxvr"
   },
   "source": [
    "<span class=\"graffiti-highlight graffiti-id_3owaxvr-id_p7i2dhl\"><i></i>Just a little addition to the previous recording ...</span>"
   ]
  },
  {
   "cell_type": "markdown",
   "metadata": {
    "graffitiCellId": "id_9gmqzt2"
   },
   "source": [
    "Which **propagates to all repeated values** (collocation points and time-steps). We can quickly check some instances:"
   ]
  },
  {
   "cell_type": "code",
   "execution_count": null,
   "metadata": {
    "graffitiCellId": "id_v4asn81"
   },
   "outputs": [],
   "source": [
    "lb_opt_x['x', 10, 2]"
   ]
  },
  {
   "cell_type": "code",
   "execution_count": null,
   "metadata": {
    "graffitiCellId": "id_jnwvphw"
   },
   "outputs": [],
   "source": [
    "ub_opt_x['x', 10, 2]"
   ]
  },
  {
   "cell_type": "code",
   "execution_count": null,
   "metadata": {
    "graffitiCellId": "id_f4kq6qj"
   },
   "outputs": [],
   "source": [
    "lb_opt_x['u', 0]"
   ]
  },
  {
   "cell_type": "markdown",
   "metadata": {
    "graffitiCellId": "id_nzoyevj"
   },
   "source": [
    "This is exactly what we wanted! And again the numerical structures are just vectors of the same length as the optimization variables (once we use ``vertcat``):"
   ]
  },
  {
   "cell_type": "code",
   "execution_count": null,
   "metadata": {
    "graffitiCellId": "id_vcd3gc3"
   },
   "outputs": [],
   "source": [
    "print(vertcat(ub_opt_x).shape)"
   ]
  },
  {
   "cell_type": "markdown",
   "metadata": {
    "graffitiCellId": "id_c6spdcu"
   },
   "source": [
    "## <span class=\"graffiti-highlight graffiti-id_c6spdcu-id_6z1h4kw\"><i></i>Task 08: Formulate MPC optimization problem</span>\n",
    "We are now prepared to formulate the MPC optimization problem, which consists of the cost ``J\n",
    "``, the constraints ``g`` and the bounds. Since we have already configured the upper and lower bounds of the optimization variables, we only need to initialize:"
   ]
  },
  {
   "cell_type": "code",
   "execution_count": null,
   "metadata": {
    "graffitiCellId": "id_cdizy83"
   },
   "outputs": [],
   "source": [
    "J = 0\n",
    "g = []    # constraint expression g\n",
    "lb_g = []  # lower bound for constraint expression g\n",
    "ub_g = []  # upper bound for constraint expression g"
   ]
  },
  {
   "cell_type": "markdown",
   "metadata": {
    "graffitiCellId": "id_2dxnu5a"
   },
   "source": [
    "We follow the same scheme as last week and loop over the different stages of our prediction horizon:\n",
    "\n",
    "```python\n",
    "for i in range(N):\n",
    "    ...\n",
    "```\n",
    "\n",
    "and at each iteration we append the stage:\n",
    "- cost\n",
    "- constraints\n",
    "\n",
    "in terms of the stage variables ``x_i`` and ``u_i``.\n",
    "Fortunately, we have already defined the functions:\n",
    "\n",
    "- ``stage_cost_fcn`` (stage cost)\n",
    "- ``terminal_cost_fcn`` (terminal cost)\n",
    "- ``system`` (right hand side of the ODE)\n",
    "\n",
    "which now come very handy! \n",
    "\n",
    "The **dynamic state equation** is enforced by adding the collocation constraint at each stage:\n",
    "\n",
    "$$\n",
    "\\sum_{j=0}^K a_{j,k} x_{i,j} - \\Delta t f(x_{i,k})=0\n",
    "$$\n",
    "\n",
    "as well as \n",
    "\n",
    "$$\n",
    "x_i^f = x_{i+1,0},\n",
    "$$\n",
    "\n",
    "where\n",
    "\n",
    "$$\n",
    "x_i^f = x^K_i(t_{i+1}) = \\sum_{j=0}^K L_j(\\tau=1) x_{i,j}.\n",
    "$$\n",
    "\n",
    "We also include a parameter ``x_init`` (CasADi symbolic variable) to enforce the initial state this time.\n",
    "This is an alternative to resetting the bounds at each iteration, as we showed in the previous exercise.\n",
    "\n",
    "The additional constraint is:\n",
    "\n",
    "$$\n",
    "x_{0,0} = x_{\\text{init}}\n",
    "$$\n",
    "\n",
    "**Here is what you need to do:**\n",
    "\n",
    "**Before the loop:**\n",
    "1. Introduce the symbolic variable ``x_init`` and use it as an equality constraint for the first state $x_{0,0}$.\n",
    "\n",
    "**At each stage $i$:**\n",
    "2. Add the stage cost computed with $x_{i,0}, u_i$.\n",
    "3. Add the collocation constraints.\n",
    "4. Add the continuity constraints $x_i^f = \\sum_{j=0}^K d_j x_{i,j} = x_{i+1,0}$.\n",
    "\n",
    "**After the loop:**\n",
    "5. Add the terminal cost\n",
    "6. Concatenate ``g`` (must be a vector, not a list!) and create the CasADi ``nlpsol`` object."
   ]
  },
  {
   "cell_type": "code",
   "execution_count": null,
   "metadata": {
    "graffitiCellId": "id_pivvzth"
   },
   "outputs": [],
   "source": [
    "# 01 - Your code here!\n",
    "\n",
    "# 01\n",
    "\n",
    "for i in range(N):\n",
    "    # 02 - Your code here!\n",
    "\n",
    "    # 02\n",
    "    \n",
    "    \n",
    "    # 03 - Your code here!\n",
    "\n",
    "    # 03\n",
    "\n",
    "    \n",
    "    # 04 - Your code here!\n",
    "\n",
    "    # 04\n",
    "    \n",
    "\n",
    "# 05 - Your code here!\n",
    "\n",
    "# 05\n",
    "\n",
    "\n",
    "# 06 - Your code here!\n",
    "\n",
    "# 06"
   ]
  },
  {
   "cell_type": "markdown",
   "metadata": {
    "graffitiCellId": "id_mz7is9d"
   },
   "source": [
    "<span class=\"graffiti-highlight graffiti-id_mz7is9d-id_jvx6dy6\"><i></i><button>Show Solution</button></span>"
   ]
  },
  {
   "cell_type": "markdown",
   "metadata": {
    "graffitiCellId": "id_awmzi84"
   },
   "source": [
    "## <span class=\"graffiti-highlight graffiti-id_awmzi84-id_ikb0y1w\"><i></i>Solving the optimal control problem</span>\n",
    "Before we run the MPC loop, we again investigate the solution of a **single optimizer call**.\n",
    "We have prepared the call for you below.\n",
    "\n",
    "Note that we are passing the initial state as a parameter. Furthermore, we have ``lbg=0`` and ``ubg=0`` and we need to pass our pre-configured structures for the upper and lower bounds on the optimization variables."
   ]
  },
  {
   "cell_type": "code",
   "execution_count": null,
   "metadata": {
    "graffitiCellId": "id_xkwtj8a",
    "scrolled": true
   },
   "outputs": [],
   "source": [
    "# Define the initial condition\n",
    "x_0 = np.array([-2,1]).reshape(2,1)\n",
    "mpc_res = mpc_solver(p=x_0, lbg=0, ubg=0, lbx = lb_opt_x, ubx = ub_opt_x)"
   ]
  },
  {
   "cell_type": "markdown",
   "metadata": {
    "graffitiCellId": "id_qnr19x1"
   },
   "source": [
    "Again we want to see:\n",
    "\n",
    "```\n",
    "EXIT: Optimal Solution Found.\n",
    "```\n",
    "\n",
    "otherwise the solution is not to be trusted."
   ]
  },
  {
   "cell_type": "markdown",
   "metadata": {
    "graffitiCellId": "id_kwqt67a"
   },
   "source": [
    "## Task 09: Extracting the solution\n",
    "As shown above, we can now use our configured symbolic structure ``opt_x`` to structure the obtained solution.\n",
    "We simply need to call:"
   ]
  },
  {
   "cell_type": "code",
   "execution_count": null,
   "metadata": {
    "graffitiCellId": "id_iuu4805"
   },
   "outputs": [],
   "source": [
    " opt_x_k = opt_x(mpc_res['x'])"
   ]
  },
  {
   "cell_type": "markdown",
   "metadata": {
    "graffitiCellId": "id_567heem"
   },
   "source": [
    "This is very helpful because we can now conviniently query the solution. In this task, we ask you to extract the solution for the predicted sequence of states and inputs from the structure ``opt_x_k``.\n",
    "\n",
    "For the states, we are only interested for the first collocation element: $x_{i,0},\\ i =0,\\dots,N+1$.\n",
    "\n",
    "To be compliant with the prepared figure below, the resulting variables should have the dimension:\n",
    "\n",
    "```python\n",
    "X_k.shape\n",
    ">> (2, N+1)\n",
    "U_k.shape\n",
    ">> (1, N)\n",
    "```\n",
    "\n",
    "**Hint:** You can use the slice operator ``:`` when indexing the structure."
   ]
  },
  {
   "cell_type": "code",
   "execution_count": null,
   "metadata": {
    "graffitiCellId": "id_vlcy10z"
   },
   "outputs": [],
   "source": [
    "# Your code here!"
   ]
  },
  {
   "cell_type": "markdown",
   "metadata": {
    "graffitiCellId": "id_emgz5ab"
   },
   "source": [
    "<span class=\"graffiti-highlight graffiti-id_emgz5ab-id_3rc1pv8\"><i></i><button>Show Solution</button></span>"
   ]
  },
  {
   "cell_type": "markdown",
   "metadata": {
    "graffitiCellId": "id_96r6cuk"
   },
   "source": [
    "### Visualizing the prediction\n",
    "Below we plot the predicted states and inputs. \n",
    "We can see that the optimizer finds a solution that drives the states slowly to zero.\n",
    "Furthermore, we observe that the constraints (visible for the inputs) are satisfied. \n",
    "\n",
    "**Note** that this is not MPC yet but **just the solution of a single optimal control problem**."
   ]
  },
  {
   "cell_type": "code",
   "execution_count": null,
   "metadata": {
    "graffitiCellId": "id_k9powt3"
   },
   "outputs": [],
   "source": [
    "fig, ax = plt.subplots(2,1, figsize=(10,6))\n",
    "\n",
    "# plot the states\n",
    "ax[0].plot(X_k.T)\n",
    "ax[1].plot(U_k.T)\n",
    "\n",
    "# Set labels\n",
    "ax[0].set_ylabel('states')\n",
    "ax[1].set_ylabel('inputs')\n",
    "ax[1].set_xlabel('time')"
   ]
  },
  {
   "cell_type": "markdown",
   "metadata": {
    "graffitiCellId": "id_bnroe42"
   },
   "source": [
    "## <span class=\"graffiti-highlight graffiti-id_bnroe42-id_myd876j\"><i></i>Task 10: Create and run MPC main loop</span>\n",
    "Now that everything is working, we can finally run the MPC loop.\n",
    "We choose the same initial state as before and initialize the lists for the results."
   ]
  },
  {
   "cell_type": "code",
   "execution_count": null,
   "metadata": {
    "graffitiCellId": "id_1sfhmow"
   },
   "outputs": [],
   "source": [
    "# Define the initial state\n",
    "x_0 = np.array([-2,1]).reshape(2,1)\n",
    "# Initialize result lists for states and inputs\n",
    "res_x_mpc = [x_0]\n",
    "res_u_mpc = []\n",
    "\n",
    "# Set number of iterations\n",
    "N_sim = 50"
   ]
  },
  {
   "cell_type": "markdown",
   "metadata": {
    "graffitiCellId": "id_e7dea64"
   },
   "source": [
    "**At each iteration:**\n",
    "1. pass the current initial state as a parameter and call the solver ``mpc_solver``\n",
    "2. extract the **current** control input from the optimal solution\n",
    "3. similarly to **Task 02:** Simulate the system (with the obtained control input) and obtain the next state\n",
    "4. reset the initial state to the next state\n",
    "5. store the next state and current control input to ``res_x_mpc`` and ``res_u_mpc``\n",
    "\n",
    "Finally, concatenate the list ``res_x_mpc`` and ``res_u_mpc`` to obtain a ``numpy.ndarray``.\n",
    "\n",
    "\n",
    "**NEVER** extract from the MPC results the next state of the system. **This is very important**. No matter how accurate your discretization scheme, you will always introduce an error. The real system development should always be obtained from a designated simulator, such as Sundials (or from measurements). The MPC results should only be considered a **prediction** of the future development of the system."
   ]
  },
  {
   "cell_type": "code",
   "execution_count": null,
   "metadata": {
    "graffitiCellId": "id_f9kouxp"
   },
   "outputs": [],
   "source": [
    "for i in range(N_sim):\n",
    "    # 01 - Your code here!\n",
    "\n",
    "    # 01\n",
    "        \n",
    "        \n",
    "    # 02 - Your code here!\n",
    "\n",
    "    # 02\n",
    "\n",
    "    \n",
    "    # 03 - Your code here!\n",
    "\n",
    "    # 03\n",
    "    \n",
    "    \n",
    "    # 04 - Your code here!\n",
    "\n",
    "    # 04\n",
    "    \n",
    "    \n",
    "    # 05 - Your code here!    \n",
    "\n",
    "    # 05\n",
    "    "
   ]
  },
  {
   "cell_type": "markdown",
   "metadata": {
    "graffitiCellId": "id_3nthzme"
   },
   "source": [
    "<span class=\"graffiti-highlight graffiti-id_3nthzme-id_jq9qtbr\"><i></i><button>Show Solution</button></span>"
   ]
  },
  {
   "cell_type": "markdown",
   "metadata": {
    "graffitiCellId": "id_wv7rumw"
   },
   "source": [
    "Here is the final plot of this exercise, showing the recorded sequence of states and inputs over time. The controller clearly suceeds in regulating the system and also obeys our set bounds."
   ]
  },
  {
   "cell_type": "code",
   "execution_count": null,
   "metadata": {
    "graffitiCellId": "id_vdu5dgv"
   },
   "outputs": [],
   "source": [
    "fig, ax = plt.subplots(2,1, figsize=(10,6))\n",
    "\n",
    "# plot the states\n",
    "ax[0].plot(res_x_mpc.T)\n",
    "ax[1].plot(res_u_mpc.T)\n",
    "\n",
    "# Set labels\n",
    "ax[0].set_ylabel('states')\n",
    "ax[1].set_ylabel('inputs')\n",
    "ax[1].set_xlabel('time')"
   ]
  },
  {
   "cell_type": "markdown",
   "metadata": {
    "graffitiCellId": "id_qv29bnp"
   },
   "source": [
    "Thank you very for following through this last exercise of the class. We hope you are now well prepared to succeed in your projects and in future work with model predictive control.\n",
    "\n",
    "<span class=\"graffiti-highlight graffiti-id_qv29bnp-id_ixcnuxo\"><i></i>Please like and subscribe :D</span>\n",
    "\n",
    "(sorry this is the closest I will ever get to a Youtuber's career haha)"
   ]
  }
 ],
 "metadata": {
  "colab": {
   "collapsed_sections": [],
   "name": "MPC_SS19_CasADi_exercise.ipynb",
   "provenance": [
    {
     "file_id": "153DDJaUNCaTvB8CXGm3tmfsQU_v-HYbe",
     "timestamp": 1556527924079
    },
    {
     "file_id": "1tpHK2rVOEyfpGWfHEr05SdgaDNhoLnLr",
     "timestamp": 1556454778896
    },
    {
     "file_id": "1N3yvBCAn6bHwKmgZWqCTLB_hpQIiBYip",
     "timestamp": 1525847821530
    }
   ],
   "toc_visible": true,
   "version": "0.3.2"
  },
  "graffiti": {
   "firstAuthorId": "dev",
   "id": "id_i1hvk72",
   "language": "EN"
  },
  "kernelspec": {
   "display_name": "Python 3",
   "language": "python",
   "name": "python3"
  },
  "language_info": {
   "codemirror_mode": {
    "name": "ipython",
    "version": 3
   },
   "file_extension": ".py",
   "mimetype": "text/x-python",
   "name": "python",
   "nbconvert_exporter": "python",
   "pygments_lexer": "ipython3",
   "version": "3.7.6"
  }
 },
 "nbformat": 4,
 "nbformat_minor": 1
}
