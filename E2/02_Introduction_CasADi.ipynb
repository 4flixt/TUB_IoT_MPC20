{
 "cells": [
  {
   "cell_type": "markdown",
   "metadata": {
    "graffitiCellId": "id_2hkv6mq"
   },
   "source": [
    "<table style=\"width:100%\"><tr>\n",
    "<td> \n",
    "    \n",
    "Technische Universität Berlin\\\n",
    "Electrical Engineering and Computer Science\\\n",
    "Internet of Things for Smart Buildings\\\n",
    "Prof. Dr. Sergio Lucia, Felix Fiedler, Benjamin Karg </td>\n",
    "<td>  <img src=\"logo_tu.png\" style=\"width: 20%;\" align=\"right\"/> </td>\n",
    "</tr>\n",
    "</table>\n",
    "\n",
    "***\n",
    "**MPC 20 - Exercise 02**\n",
    "***\n",
    "\n",
    "# <span class=\"graffiti-highlight graffiti-id_2hkv6mq-id_kth1xog\"><i></i>Please click here!</span>\n",
    "\n",
    "# CasADi Tutorial\n",
    "\n",
    "In this exercise we will explore the Python library [CasADi](https://web.casadi.org/docs/).\n",
    "We will use this library extensively in the upcoming exercise(s) and your projects.\n",
    "\n",
    "## What is CasADi (and what is it not)?\n",
    "CasADi started out as a tool for algorithmic differentiation (AD) using a syntax borrowed from computer algebra systems (CAS), which explains its name. While AD still forms one of the core functionalities of the tool, the scope of the tool has since been considerably broadened, with the addition of support for ODE/DAE integration and sensitivity analysis, nonlinear programming and interfaces to other numerical tools. In its current form, it is a general-purpose tool for gradient-based numerical optimization – with a strong focus on optimal control – and CasADi is just a name without any particular meaning.\n",
    "\n",
    "It is important to point out that CasADi is not a conventional AD tool, that can be used to calculate derivative information from existing user code with little to no modification. If you have an existing model written in C++, Python or MATLAB/Octave, you need to be prepared to reimplement the model using CasADi syntax.\n",
    "\n",
    "Secondly, CasADi is not a computer algebra system. While the symbolic core does include an increasing set of tools for manipulate symbolic expressions, these capabilities are very limited compared to a proper CAS tool.\n",
    "\n",
    "Finally, CasADi is not an “optimal control problem solver”, that allows the user to enter an OCP and then gives the solution back. Instead, it tries to provide the user with a set of “building blocks” that can be used to implement general-purpose or specific-purpose OCP solvers efficiently with a modest programming effort.\n",
    "\n",
    "**Taken from:** [CasADi](https://web.casadi.org/docs/)\n",
    "\n",
    "## Install CasADi\n",
    "- If you are using this Notebook from **Binder**, CasADi will be already installed. Binder checks the included `requirements.txt` file and uses `pip` to install all listed packages.\n",
    "- If you are working locally, use: `pip install casadi`. This should be executed in a terminal, prior to launching the Jupyter Noteboook.\n",
    "   "
   ]
  },
  {
   "cell_type": "markdown",
   "metadata": {
    "colab_type": "text",
    "graffitiCellId": "id_rqy9wk4",
    "id": "2kQ0O8ibcoPQ"
   },
   "source": [
    "## <span class=\"graffiti-highlight graffiti-id_rqy9wk4-id_66aabzh\"><i></i>First steps with CasADi</span>\n",
    "We start by importing CasADi as well as some previously introduced packages for Python."
   ]
  },
  {
   "cell_type": "code",
   "execution_count": null,
   "metadata": {
    "colab": {},
    "colab_type": "code",
    "graffitiCellId": "id_xgje2x0",
    "id": "vXBDa6mdbdTm"
   },
   "outputs": [],
   "source": [
    "# Import everything (*) from casadi\n",
    "from casadi import *\n",
    "# We also already import matplotlib for plotting:\n",
    "import matplotlib.pyplot as plt\n",
    "# And numpy because we cant live without numpy (it gives as matrices <3:\n",
    "import numpy as np"
   ]
  },
  {
   "cell_type": "code",
   "execution_count": null,
   "metadata": {
    "graffitiCellId": "id_98bo633"
   },
   "outputs": [],
   "source": [
    "# Define a symbol\n",
    "x = SX.sym(\"x\")\n",
    "x"
   ]
  },
  {
   "cell_type": "code",
   "execution_count": null,
   "metadata": {
    "graffitiCellId": "id_0a55mnu"
   },
   "outputs": [],
   "source": [
    "# Any expression that uses a symbol is also a symbol\n",
    "a = 3*x**2\n",
    "print(a)"
   ]
  },
  {
   "cell_type": "code",
   "execution_count": null,
   "metadata": {
    "colab": {
     "base_uri": "https://localhost:8080/",
     "height": 68
    },
    "colab_type": "code",
    "graffitiCellId": "id_m677hrg",
    "id": "UJ86wQyKbt_i",
    "outputId": "93a6bd05-120d-4506-f601-908baa587362"
   },
   "outputs": [],
   "source": [
    "# You can define a vector of symbols of any size\n",
    "y = SX.sym(\"y\",5)\n",
    "print(y)"
   ]
  },
  {
   "cell_type": "markdown",
   "metadata": {
    "colab_type": "text",
    "graffitiCellId": "id_nan7frd",
    "id": "gI6zQtuqFWf8"
   },
   "source": [
    "More information about CasADi in general and the available operations in particular can be found in this [List of Operations in CasADi](https://web.casadi.org/docs/#list-of-operations).\n"
   ]
  },
  {
   "cell_type": "code",
   "execution_count": null,
   "metadata": {
    "colab": {
     "base_uri": "https://localhost:8080/",
     "height": 34
    },
    "colab_type": "code",
    "graffitiCellId": "id_zcptipc",
    "id": "vV48iFk5dRN1",
    "outputId": "1c429818-3370-4993-d02e-33dadf02acdc"
   },
   "outputs": [],
   "source": [
    "# Define a CasADi function\n",
    "my_fun = Function('my_fun',[x],[x**2+5])\n",
    "my_fun"
   ]
  },
  {
   "cell_type": "markdown",
   "metadata": {
    "colab_type": "text",
    "graffitiCellId": "id_9av73u5",
    "id": "SliObKhsFy_F"
   },
   "source": [
    "The printed output reveals some information about the function: We have one input i0 and one output o0. We can also see that both input and output are scalar values, as CasADi would indicate vectors / matrices with their respective dimensions, e.g.:\n",
    "```\n",
    "Function(my_fun:(i0[3])->(o0) SXFunction)\n",
    "```\n",
    "\n",
    "Of course we can evaluate our function. The most straight-forward way to do so is to call it with a numerical input, e.g.:"
   ]
  },
  {
   "cell_type": "code",
   "execution_count": null,
   "metadata": {
    "colab": {
     "base_uri": "https://localhost:8080/",
     "height": 34
    },
    "colab_type": "code",
    "graffitiCellId": "id_wwiji31",
    "id": "sXiGrSAXebpg",
    "outputId": "c2fd9758-db2d-4078-8901-ed84105cf83b"
   },
   "outputs": [],
   "source": [
    "# Evaluate your function numerically\n",
    "my_fun(10)"
   ]
  },
  {
   "cell_type": "markdown",
   "metadata": {
    "colab_type": "text",
    "graffitiCellId": "id_u9x5nyy",
    "id": "B2UfFF_OHE-o"
   },
   "source": [
    "Note that DM is the CasADi data type for numerical values. Further information can be found [here](https://web.casadi.org/docs/#dm). \n",
    "Sometimes it can be important to convert this back to the numpy format with:\n",
    "\n",
    "\n",
    "```\n",
    "DM(105).full()\n",
    "```\n",
    "Feel free to try this method with the function output above.\n",
    "\n",
    "\n",
    "As we will see for the MPC application later, it is even more useful to evaluate the above function symbolically. This is also straight-forward:\n",
    "\n"
   ]
  },
  {
   "cell_type": "code",
   "execution_count": null,
   "metadata": {
    "colab": {
     "base_uri": "https://localhost:8080/",
     "height": 34
    },
    "colab_type": "code",
    "graffitiCellId": "id_97mdn1l",
    "id": "LSa6k9UwdmIo",
    "outputId": "4780e1f3-400e-430f-a9f8-54e4940435e0"
   },
   "outputs": [],
   "source": [
    "# Evaluate your function symbolically\n",
    "my_fun(x)"
   ]
  },
  {
   "cell_type": "markdown",
   "metadata": {
    "graffitiCellId": "id_4hpz5ul"
   },
   "source": [
    "### <span class=\"graffiti-highlight graffiti-id_4hpz5ul-id_2p8xkof\"><i></i>Symbolic arrays</span>\n",
    "CasADi fully supports vectors and matrices, which can be created like this:"
   ]
  },
  {
   "cell_type": "code",
   "execution_count": null,
   "metadata": {
    "graffitiCellId": "id_fwzm9bi",
    "scrolled": true
   },
   "outputs": [],
   "source": [
    "vector = SX.sym('vector', 4,1)\n",
    "matrix = SX.sym('matrix', 4,4)\n",
    "\n",
    "print(vector.shape)\n",
    "print(matrix.shape)"
   ]
  },
  {
   "cell_type": "markdown",
   "metadata": {
    "graffitiCellId": "id_757warq"
   },
   "source": [
    "Everything can be indexed similar to Numpy:"
   ]
  },
  {
   "cell_type": "code",
   "execution_count": null,
   "metadata": {
    "graffitiCellId": "id_ap3rpzh"
   },
   "outputs": [],
   "source": [
    "v = SX.sym('v', 4)\n",
    "\n",
    "v[0:2]"
   ]
  },
  {
   "cell_type": "markdown",
   "metadata": {
    "graffitiCellId": "id_dbnedz6"
   },
   "source": [
    "Sometimes we need to concatenate arrays:"
   ]
  },
  {
   "cell_type": "code",
   "execution_count": null,
   "metadata": {
    "graffitiCellId": "id_mx1lg7w"
   },
   "outputs": [],
   "source": [
    "w = SX.sym('w', 4)\n",
    "\n",
    "vertcat(v,w)"
   ]
  },
  {
   "cell_type": "code",
   "execution_count": null,
   "metadata": {
    "graffitiCellId": "id_42xpi0g"
   },
   "outputs": [],
   "source": [
    "horzcat(v,w)"
   ]
  },
  {
   "cell_type": "markdown",
   "metadata": {
    "graffitiCellId": "id_om90urd"
   },
   "source": [
    "The difference is the resulting shape:"
   ]
  },
  {
   "cell_type": "code",
   "execution_count": null,
   "metadata": {
    "graffitiCellId": "id_zt2fyhr"
   },
   "outputs": [],
   "source": [
    "vertcat(v,w).shape"
   ]
  },
  {
   "cell_type": "code",
   "execution_count": null,
   "metadata": {
    "graffitiCellId": "id_az0ezkv"
   },
   "outputs": [],
   "source": [
    "horzcat(v,w).shape"
   ]
  },
  {
   "cell_type": "markdown",
   "metadata": {
    "colab_type": "text",
    "graffitiCellId": "id_uhu8eke",
    "id": "boRsZW_TUkdb"
   },
   "source": [
    "## Task 01: Working with symbolic expressions\n",
    "One of the main perks of working with symbolic CasADi expressions is the possibility to obtain exact derivatives of arbitrary expressions with **Automatic Differentiation** (AD).\n",
    "\n",
    "1. Create a nested expression in a loop, where $$y_{k+1}=y_{k}\\cdot sin(y_k)$$ and $y_0 = x$ for $k=0\\dots10$. In the end you have a scalar expression: $$y_{10}=f(x)$$\n",
    "2. Print the expression y and investigate the output. Do you recognize the intermediate variables that are typical for the AD expression graph?\n"
   ]
  },
  {
   "cell_type": "code",
   "execution_count": null,
   "metadata": {
    "colab": {
     "base_uri": "https://localhost:8080/",
     "height": 34
    },
    "colab_type": "code",
    "graffitiCellId": "id_kypplhf",
    "id": "Fk-PltPaWv8n",
    "outputId": "70df171e-457a-4d61-d074-c04e872bea8b"
   },
   "outputs": [],
   "source": [
    "# Write your code here!"
   ]
  },
  {
   "cell_type": "markdown",
   "metadata": {
    "graffitiCellId": "id_pghu298"
   },
   "source": [
    "<span class=\"graffiti-highlight graffiti-id_pghu298-id_z70w2h8\"><i></i><button>Show Solution</button></span>"
   ]
  },
  {
   "cell_type": "markdown",
   "metadata": {
    "colab_type": "text",
    "graffitiCellId": "id_5lcdsjs",
    "id": "3DelriuhXrtc"
   },
   "source": [
    "3. Create a CasADi Function from this expression.\n",
    "4. Use a simple numerical differentiation scheme such as:\n",
    "$$ f'(x_0)\\approx \\frac{f(x_0+h)-f(x_0)}{h} $$\n",
    "to determine the derivative for $x_0=7$ (what is the first number that comes to your mind??). See for example how the result changes with values of $h$, such as 1e-2, 1e-6, 1e-12, 1e-15, 1e-16"
   ]
  },
  {
   "cell_type": "code",
   "execution_count": null,
   "metadata": {
    "graffitiCellId": "id_iwu38kq"
   },
   "outputs": [],
   "source": [
    "# Write your code here!"
   ]
  },
  {
   "cell_type": "markdown",
   "metadata": {
    "graffitiCellId": "id_pgkldsg"
   },
   "source": [
    "<span class=\"graffiti-highlight graffiti-id_pgkldsg-id_pxu3rv8\"><i></i><button>Show Solution</button></span>"
   ]
  },
  {
   "cell_type": "markdown",
   "metadata": {
    "colab_type": "text",
    "graffitiCellId": "id_q9tnyys",
    "id": "XtNRCG3ZZTP2"
   },
   "source": [
    "Note how very different results are obtained. Also very small values of $h$ can create signifcant problems due to computer accuracy.\n",
    "\n",
    "4. Now use AD to determine the gradient of the expression. See the [CasADi guide ](https://web.casadi.org/docs/#calculus-algorithmic-differentiation) for help.\n",
    "5. Print the result again. Note that the resulting expression is much longer but still managable."
   ]
  },
  {
   "cell_type": "code",
   "execution_count": null,
   "metadata": {
    "graffitiCellId": "id_sy7pcmx"
   },
   "outputs": [],
   "source": [
    "# Write your code here!"
   ]
  },
  {
   "cell_type": "markdown",
   "metadata": {
    "graffitiCellId": "id_zzn5cen"
   },
   "source": [
    "<span class=\"graffiti-highlight graffiti-id_zzn5cen-id_3ouqpek\"><i></i><button>Show Solution</button></span>"
   ]
  },
  {
   "cell_type": "markdown",
   "metadata": {
    "colab_type": "text",
    "graffitiCellId": "id_dxqayge",
    "id": "krEOJ4qyZ4rZ"
   },
   "source": [
    "6. Create a CasADi Function from this expression and evaluate it for the same $x_0$ value:"
   ]
  },
  {
   "cell_type": "code",
   "execution_count": null,
   "metadata": {
    "graffitiCellId": "id_x96c72d"
   },
   "outputs": [],
   "source": [
    "# Write your code here!"
   ]
  },
  {
   "cell_type": "markdown",
   "metadata": {
    "graffitiCellId": "id_gixuwsc"
   },
   "source": [
    "<span class=\"graffiti-highlight graffiti-id_gixuwsc-id_vophx30\"><i></i><button>Show Solution</button></span>"
   ]
  },
  {
   "cell_type": "markdown",
   "metadata": {
    "colab_type": "text",
    "graffitiCellId": "id_j0pkoni",
    "id": "8FHFiMNSasSx"
   },
   "source": [
    "**Optional Task:** Time the execution time of the two different methods. <br>\n",
    "This can be done easily in this notebook by adding the **%%timeit** expression to any block of code, e.g.:\n",
    "\n",
    "\n",
    "```python\n",
    "%% timeit\n",
    "for i in range(10000):\n",
    "  i**2\n",
    "```\n",
    "Apart from the accuracy problems shown above we also notice that CasADi performs the desired operation significantly faster."
   ]
  },
  {
   "cell_type": "code",
   "execution_count": null,
   "metadata": {
    "graffitiCellId": "id_fdwep1a"
   },
   "outputs": [],
   "source": [
    "# Write your code here! (optional)"
   ]
  },
  {
   "cell_type": "markdown",
   "metadata": {
    "graffitiCellId": "id_6x9y4dk"
   },
   "source": [
    "<span class=\"graffiti-highlight graffiti-id_6x9y4dk-id_ycyd6eg\"><i></i><button>Show Solution</button></span>"
   ]
  },
  {
   "cell_type": "code",
   "execution_count": null,
   "metadata": {
    "graffitiCellId": "id_3kyf13s"
   },
   "outputs": [],
   "source": [
    "# Write your code here! (optional)"
   ]
  },
  {
   "cell_type": "markdown",
   "metadata": {
    "graffitiCellId": "id_oi1k9g3"
   },
   "source": [
    "<span class=\"graffiti-highlight graffiti-id_oi1k9g3-id_5cv2sjr\"><i></i><button>Show Solution</button></span>"
   ]
  },
  {
   "cell_type": "markdown",
   "metadata": {
    "graffitiCellId": "id_vjaiqxv"
   },
   "source": [
    "## <span class=\"graffiti-highlight graffiti-id_vjaiqxv-id_ipqq4rq\"><i></i>Symbolic vs. automatic differentiation</span>\n",
    "\n",
    "Obtaining derivates is essential for fast optimization and you have explored two methods above:\n",
    "1. numerical differentiation\n",
    "2. automatic differentiation (AD)\n",
    "\n",
    "Most likely, you will be familiar with numerical differentation and are just learning about AD. \n",
    "Of course, you already know about symbolic differentiation, which is a third way to obtain derivatives.\n",
    "What we mean by symbolic is simply: Apply derivative rules and obtain a new expression, e.g.:\n",
    "\n",
    "$$\n",
    "f(x) = x^3 + sin(x)\\\\\n",
    "f'(x) = 3x^2 + cos(x)\n",
    "$$\n",
    "\n",
    "**This is not the same as automatic differentation!!**\n",
    "\n",
    "With AD you will never obtain an explicit expression to obtain the derivative of a function. \n",
    "AD will rather give you an expression graph to evaluate the derivative of the function,\n",
    "such that we can calculate\n",
    "\n",
    "$$\n",
    "f'(7) = 147.7539022543433\n",
    "$$\n",
    "\n",
    "There are also tools to perform symbolic differentiation, e.g. **Sympy** in Python. However, they will be insanely inefficient for the task presented above as is shown in the quick example below.\n",
    "\n",
    "We first create the same expression, now with Sympy symbolic variables."
   ]
  },
  {
   "cell_type": "code",
   "execution_count": null,
   "metadata": {
    "graffitiCellId": "id_oqagoaa"
   },
   "outputs": [],
   "source": [
    "import sympy as sym\n",
    "\n",
    "# Same as above now with Sympy library for symbolic variables.\n",
    "x_sym = sym.symbols('x')\n",
    "y_sym = x_sym\n",
    "\n",
    "# Loop only until 4 ... otherwise the expression \"explodes\"\n",
    "for k in range(4):\n",
    "    y_sym = y_sym*sym.sin(y_sym)\n",
    "\n",
    "print(y_sym)"
   ]
  },
  {
   "cell_type": "markdown",
   "metadata": {
    "graffitiCellId": "id_ciwzmpi"
   },
   "source": [
    "Note that we had to restrain ourselves and create a less nested expression (loop until 4). You will see in a second why that is the case.\n",
    "For this expresssion we can now obtain the derivative:"
   ]
  },
  {
   "cell_type": "code",
   "execution_count": null,
   "metadata": {
    "graffitiCellId": "id_94ancf8"
   },
   "outputs": [],
   "source": [
    "dy_sym = sym.diff(y_sym,x_sym)\n",
    "print(dy_sym)"
   ]
  },
  {
   "cell_type": "markdown",
   "metadata": {
    "graffitiCellId": "id_ulbvak9"
   },
   "source": [
    "Product rule and chain rule have created a monster in that case. This would have been book filling if we had looped until 10 ..."
   ]
  },
  {
   "cell_type": "code",
   "execution_count": null,
   "metadata": {
    "graffitiCellId": "id_qhxzuxy"
   },
   "outputs": [],
   "source": [
    "%%timeit\n",
    "res = dy_sym.subs(x_sym, 7).evalf()"
   ]
  },
  {
   "cell_type": "markdown",
   "metadata": {
    "graffitiCellId": "id_qffyolk"
   },
   "source": [
    "Not surprisingly, evaluating the expression is extremely slow and again: It is still considerably less complex than what we had before."
   ]
  },
  {
   "cell_type": "markdown",
   "metadata": {
    "graffitiCellId": "id_slc4sn4"
   },
   "source": [
    "## <span class=\"graffiti-highlight graffiti-id_slc4sn4-id_qb7h72a\"><i></i>Task 02: Optimization problem with CasADi and Ipopt</span>\n",
    "You have learned how to work with symbolic expression.These symbolic expressions can be used to formulate an optimization problem.\n",
    "In the following you will be using the solver **nlpsol** with **ipopt** which is implemented in CasADi to solve the simple optimization problem:\n",
    "\n",
    "$$\n",
    "\\min_x \\quad x^2-5x+9\\\\\n",
    "\\text{s.t.} \\quad x\\leq -5\n",
    "$$\n",
    "\n",
    "1. Create a new symbolic variable `x` and write the cost function (`y`) in terms of `x`.\n",
    "2. Create a CasADi `Function` that takes as input `x` and returns `y`. The function should be called `y_fun`."
   ]
  },
  {
   "cell_type": "code",
   "execution_count": null,
   "metadata": {
    "graffitiCellId": "id_pcbejqp"
   },
   "outputs": [],
   "source": [
    "# Your code here!"
   ]
  },
  {
   "cell_type": "markdown",
   "metadata": {
    "graffitiCellId": "id_zc92iz9"
   },
   "source": [
    "<span class=\"graffiti-highlight graffiti-id_zc92iz9-id_6jynyim\"><i></i><button>Show Solution</button></span>"
   ]
  },
  {
   "cell_type": "markdown",
   "metadata": {
    "graffitiCellId": "id_q4hsa9j"
   },
   "source": [
    "3. Evaluate your function in the range of $x=[-10,10]$. Name the input `x_num` and the resulting output `y_num`."
   ]
  },
  {
   "cell_type": "code",
   "execution_count": null,
   "metadata": {
    "graffitiCellId": "id_5yy40r8"
   },
   "outputs": [],
   "source": [
    "# Your code here!"
   ]
  },
  {
   "cell_type": "markdown",
   "metadata": {
    "graffitiCellId": "id_922w89o"
   },
   "source": [
    "<span class=\"graffiti-highlight graffiti-id_922w89o-id_50bhdgr\"><i></i><button>Show Solution</button></span>"
   ]
  },
  {
   "cell_type": "markdown",
   "metadata": {
    "graffitiCellId": "id_z5nn3bn"
   },
   "source": [
    "We quickly visualize the function and the constraint:"
   ]
  },
  {
   "cell_type": "code",
   "execution_count": null,
   "metadata": {
    "graffitiCellId": "id_dxy1m8k",
    "scrolled": true
   },
   "outputs": [],
   "source": [
    "fig, ax = plt.subplots()\n",
    "\n",
    "# Function\n",
    "ax.plot(x_num, y_num)\n",
    "\n",
    "# Constraint\n",
    "ubx = -5\n",
    "ax.axvline(ubx)"
   ]
  },
  {
   "cell_type": "markdown",
   "metadata": {
    "graffitiCellId": "id_mi16fce"
   },
   "source": [
    "5. We now want to solve the problem shown above using CasADi [nlpsol](https://web.casadi.org/docs/#creating-nlp-solvers). Please investigate the CasADi documentation and create the problem.\n",
    "\n",
    "Note that we are not solving the problem yet."
   ]
  },
  {
   "cell_type": "code",
   "execution_count": null,
   "metadata": {
    "graffitiCellId": "id_5l2j1cf"
   },
   "outputs": [],
   "source": [
    "# Write your code here!"
   ]
  },
  {
   "cell_type": "markdown",
   "metadata": {
    "graffitiCellId": "id_b43xnpm"
   },
   "source": [
    "<span class=\"graffiti-highlight graffiti-id_b43xnpm-id_geuc8sk\"><i></i><button>Show Solution</button></span>"
   ]
  },
  {
   "cell_type": "markdown",
   "metadata": {
    "graffitiCellId": "id_3eqcpo1"
   },
   "source": [
    "Quickly investigate the solver object:"
   ]
  },
  {
   "cell_type": "code",
   "execution_count": null,
   "metadata": {
    "graffitiCellId": "id_6g2abpz"
   },
   "outputs": [],
   "source": [
    "print(solver)"
   ]
  },
  {
   "cell_type": "markdown",
   "metadata": {
    "graffitiCellId": "id_ghn76mu"
   },
   "source": [
    "We see that it is similar to a regular CasADi function, e.g.:"
   ]
  },
  {
   "cell_type": "code",
   "execution_count": null,
   "metadata": {
    "graffitiCellId": "id_s4bgv8y",
    "scrolled": true
   },
   "outputs": [],
   "source": [
    "y_fun"
   ]
  },
  {
   "cell_type": "markdown",
   "metadata": {
    "graffitiCellId": "id_idus20h"
   },
   "source": [
    "The optimizer takes the following important inputs:\n",
    "- `x0`: The initial guess\n",
    "- `p`: Parameter of the optimization problem (we have none here).\n",
    "- `lbx`, `ubx`: Lower and upper bound of the optimization variable `x`.\n",
    "- `lbg`, `ubg`: Lower and upper bound of additional constraints `g` (we have none here)\n",
    "\n",
    "and returns (in a dictionary)\n",
    "- `x`: The optimal value of the optimization variables.\n",
    "- `f`: The optimal cost of the objective function."
   ]
  },
  {
   "cell_type": "markdown",
   "metadata": {
    "graffitiCellId": "id_mqivs6r"
   },
   "source": [
    "6. Solve the optimization problem. Use an initial guess and the previously defined upper bound for x (`ubx`)."
   ]
  },
  {
   "cell_type": "code",
   "execution_count": null,
   "metadata": {
    "graffitiCellId": "id_p8mgpfy"
   },
   "outputs": [],
   "source": [
    "# Write your code here."
   ]
  },
  {
   "cell_type": "markdown",
   "metadata": {
    "graffitiCellId": "id_plgz1jn"
   },
   "source": [
    "<span class=\"graffiti-highlight graffiti-id_plgz1jn-id_xyw7ncr\"><i></i><button>Show Solution</button></span>"
   ]
  },
  {
   "cell_type": "markdown",
   "metadata": {
    "graffitiCellId": "id_1beb47b"
   },
   "source": [
    "7. Obtain the optimal value of `x` and `y` from the resulting dictionary. Call them `x_opt` and `y_opt`."
   ]
  },
  {
   "cell_type": "code",
   "execution_count": null,
   "metadata": {
    "graffitiCellId": "id_22arviz"
   },
   "outputs": [],
   "source": [
    "# Write your code here."
   ]
  },
  {
   "cell_type": "markdown",
   "metadata": {
    "graffitiCellId": "id_kan0wmb"
   },
   "source": [
    "<span class=\"graffiti-highlight graffiti-id_kan0wmb-id_31mg9wn\"><i></i><button>Show Solution</button></span>"
   ]
  },
  {
   "cell_type": "markdown",
   "metadata": {
    "graffitiCellId": "id_zpdxmzu"
   },
   "source": [
    "We can now plot the solution in the previously created diagram:"
   ]
  },
  {
   "cell_type": "code",
   "execution_count": null,
   "metadata": {
    "graffitiCellId": "id_158dsv3"
   },
   "outputs": [],
   "source": [
    "ax.plot(x_opt,y_opt, 'o', markersize=10)\n",
    "fig"
   ]
  },
  {
   "cell_type": "markdown",
   "metadata": {
    "colab_type": "text",
    "graffitiCellId": "id_49th6jz",
    "id": "rWoK-9cwegl3"
   },
   "source": [
    "## <span class=\"graffiti-highlight graffiti-id_49th6jz-id_rxsyktj\"><i></i>Task 03: Rectangle with largest area inside a polyhedron</span>"
   ]
  },
  {
   "cell_type": "markdown",
   "metadata": {
    "colab_type": "text",
    "graffitiCellId": "id_6x4owfa",
    "id": "PC0We3yq__la"
   },
   "source": [
    "After this first impressions on how to use CasADi for optimization, we will in this exercise work on a more challenging problem.\n",
    "\n",
    "Consider the problem of finding the rectangle with largest possible area $a$ that lies in a polyhedron described by a set of linear inequalities\n",
    "\n",
    "$$\\mathcal{P}(A,b) = \\{x\\in \\mathbb{R}^2|Ax \\leq b\\}.$$\n",
    "\n",
    "The rectangle is defined by \n",
    "\n",
    "$$\\mathcal{R}(l,u) = \\{x \\in \\mathbb{R}^2 \\, | \\, l\\leq x \\leq u,\\ l,u \\in \\mathbb{R}^2\\}.$$\n",
    "\n",
    "The side length is thus:\n",
    "\n",
    "$$\n",
    "a = u_0 - l_0\\\\\n",
    "b = u_1 - l_1\n",
    "$$\n",
    "\n",
    "and the area results in $A=a\\cdot b$.\n",
    "\n",
    "We consider the following polyhedron $\\mathcal{P}$:\n",
    "\\begin{align*}\n",
    "A=\\begin{bmatrix} \n",
    "                  2 & -4 \\\\\n",
    "                  2 & 1 \\\\\n",
    "                  -4 & 4 \\\\\n",
    "                  -4 & 0 \\end{bmatrix},\n",
    "                  \\qquad b = \\mathbf{1}.\n",
    "\\end{align*}\n",
    "\n",
    "**Hint.** If the corners of a box lie inside a polyhedron, the box does too.\n",
    "\n",
    "To help you visualize the problem, here is a plot of the polyhedron:"
   ]
  },
  {
   "cell_type": "code",
   "execution_count": null,
   "metadata": {
    "graffitiCellId": "id_vot2r91",
    "scrolled": true
   },
   "outputs": [],
   "source": [
    "fig, ax = plt.subplots()\n",
    "\n",
    "# Plot polyhedron\n",
    "ax.plot([-1/4,-1/4],[-0.375, 0.0],'-k',linewidth=2)\n",
    "ax.plot([-0.25, 0.25],[0.0, 0.5],'-k',linewidth=2)\n",
    "ax.plot([0.25, 0.5],[0.5, 0.0],'-k',linewidth=2)\n",
    "ax.plot([0.5, -0.25],[0.0, -0.375],'-k',linewidth=2)\n",
    "plt.show()"
   ]
  },
  {
   "cell_type": "markdown",
   "metadata": {
    "graffitiCellId": "id_9z48spv"
   },
   "source": [
    "Of course you don't need to copy the parameters for the polyhedron. Here they are:"
   ]
  },
  {
   "cell_type": "code",
   "execution_count": null,
   "metadata": {
    "graffitiCellId": "id_p91o1ez"
   },
   "outputs": [],
   "source": [
    "A = np.array([[ 2, -4],\n",
    "              [ 2,  1],\n",
    "              [-4,  4],\n",
    "              [-4,  0]])\n",
    "              \n",
    "b = np.ones((4,1))"
   ]
  },
  {
   "cell_type": "markdown",
   "metadata": {
    "graffitiCellId": "id_snjxhd9"
   },
   "source": [
    "1. Define the symbolic variables `l` und `u` for the rectangle $\\mathcal{R}(l,u)$.\n",
    "2. Use `l` und `u` to define the (4) edges of the rectangle."
   ]
  },
  {
   "cell_type": "code",
   "execution_count": null,
   "metadata": {
    "graffitiCellId": "id_klw6ejc"
   },
   "outputs": [],
   "source": [
    "# Write your code here!"
   ]
  },
  {
   "cell_type": "markdown",
   "metadata": {
    "graffitiCellId": "id_jeu2tdv"
   },
   "source": [
    "<span class=\"graffiti-highlight graffiti-id_jeu2tdv-id_2o27jfl\"><i></i><button>Show Solution</button></span>"
   ]
  },
  {
   "cell_type": "markdown",
   "metadata": {
    "graffitiCellId": "id_d1k005v"
   },
   "source": [
    "3. Create an expression `g` that represents the polyhedron constraints $Ax\\leq b$. \n",
    "\n",
    "**Note**: Regardless how you create `g` it must be a vector in the end (of type `casadi.SX`).\n",
    "\n",
    "**Note**: Most likely you will need to use `vertcat` and/or `horzcat`."
   ]
  },
  {
   "cell_type": "code",
   "execution_count": null,
   "metadata": {
    "graffitiCellId": "id_i93i56m"
   },
   "outputs": [],
   "source": [
    "# Write your code here!"
   ]
  },
  {
   "cell_type": "markdown",
   "metadata": {
    "graffitiCellId": "id_aqk9ftl"
   },
   "source": [
    "<span class=\"graffiti-highlight graffiti-id_aqk9ftl-id_j1qrkvf\"><i></i><button>Show Solution</button></span>"
   ]
  },
  {
   "cell_type": "markdown",
   "metadata": {
    "graffitiCellId": "id_j5vxym1"
   },
   "source": [
    "4. Write an expression `f` for the cost function (maximize the area of the rectangle) in terms of `l` und `u`.\n",
    "\n",
    "**Note:** The `nlpsol` interface is always used for a minimization problem. To maximize, we need to multiply our cost function with -1."
   ]
  },
  {
   "cell_type": "code",
   "execution_count": null,
   "metadata": {
    "graffitiCellId": "id_vfpevvr"
   },
   "outputs": [],
   "source": [
    "# Write your code here!"
   ]
  },
  {
   "cell_type": "markdown",
   "metadata": {
    "graffitiCellId": "id_uoi9dw2"
   },
   "source": [
    "<span class=\"graffiti-highlight graffiti-id_uoi9dw2-id_s8cwun2\"><i></i><button>Show Solution</button></span>"
   ]
  },
  {
   "cell_type": "markdown",
   "metadata": {
    "graffitiCellId": "id_ep0reqb"
   },
   "source": [
    "5. Create the solver object."
   ]
  },
  {
   "cell_type": "code",
   "execution_count": null,
   "metadata": {
    "graffitiCellId": "id_upejljt"
   },
   "outputs": [],
   "source": [
    "# Write your code here!"
   ]
  },
  {
   "cell_type": "markdown",
   "metadata": {
    "graffitiCellId": "id_xhjr26v"
   },
   "source": [
    "<span class=\"graffiti-highlight graffiti-id_xhjr26v-id_0vucuol\"><i></i><button>Show Solution</button></span>"
   ]
  },
  {
   "cell_type": "markdown",
   "metadata": {
    "graffitiCellId": "id_dzn53kx"
   },
   "source": [
    "6. Solve the optimization problem (name result `res`).\n",
    "7. The solver returns the solution as a single vector `x`. Extract the components `l` and `u` with indices.\n",
    "\n",
    "**Note**: Don't forget the initial guess and the upper bound for the constraints `g`."
   ]
  },
  {
   "cell_type": "code",
   "execution_count": null,
   "metadata": {
    "graffitiCellId": "id_2lauk89"
   },
   "outputs": [],
   "source": [
    "# Write your code here!"
   ]
  },
  {
   "cell_type": "markdown",
   "metadata": {
    "graffitiCellId": "id_35otcem"
   },
   "source": [
    "<span class=\"graffiti-highlight graffiti-id_35otcem-id_w29hkd7\"><i></i><button>Show Solution</button></span>"
   ]
  },
  {
   "cell_type": "markdown",
   "metadata": {
    "graffitiCellId": "id_1mwh77g"
   },
   "source": [
    "Let's see how the solution fits in the polyhedron:"
   ]
  },
  {
   "cell_type": "code",
   "execution_count": null,
   "metadata": {
    "graffitiCellId": "id_g61l0b0"
   },
   "outputs": [],
   "source": [
    "# Plot maximized rectangle\n",
    "ax.plot([l[0],l[0]],[l[1],u[1]],'-r',linewidth=2)\n",
    "ax.plot([l[0],u[0]],[u[1],u[1]],'-r',linewidth=2)\n",
    "ax.plot([u[0],u[0]],[u[1],l[1]],'-r',linewidth=2)\n",
    "ax.plot([u[0],l[0]],[l[1],l[1]],'-r',linewidth=2)\n",
    "fig"
   ]
  },
  {
   "cell_type": "markdown",
   "metadata": {
    "graffitiCellId": "id_m53680p"
   },
   "source": [
    "Congratulations! You have finished the second exercise."
   ]
  }
 ],
 "metadata": {
  "colab": {
   "collapsed_sections": [],
   "name": "MPC_SS19_CasADi_exercise.ipynb",
   "provenance": [],
   "toc_visible": true,
   "version": "0.3.2"
  },
  "graffiti": {
   "firstAuthorId": "dev",
   "id": "id_jbs4aly",
   "language": "EN"
  },
  "kernelspec": {
   "display_name": "Python 3",
   "language": "python",
   "name": "python3"
  },
  "language_info": {
   "codemirror_mode": {
    "name": "ipython",
    "version": 3
   },
   "file_extension": ".py",
   "mimetype": "text/x-python",
   "name": "python",
   "nbconvert_exporter": "python",
   "pygments_lexer": "ipython3",
   "version": "3.7.6"
  }
 },
 "nbformat": 4,
 "nbformat_minor": 1
}
